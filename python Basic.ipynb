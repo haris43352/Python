{
 "cells": [
  {
   "cell_type": "markdown",
   "id": "70b92174",
   "metadata": {},
   "source": [
    "\n",
    "# String\n"
   ]
  },
  {
   "cell_type": "markdown",
   "id": "30d5d010",
   "metadata": {},
   "source": [
    "Strings in python are surrounded by either single quotation marks, or double quotation marks. 'hello' is the same as \"hello\".\n",
    "\n",
    "You can display a string literal with the print() function:"
   ]
  },
  {
   "cell_type": "code",
   "execution_count": 1,
   "id": "7fba7c64",
   "metadata": {},
   "outputs": [
    {
     "name": "stdout",
     "output_type": "stream",
     "text": [
      "python\n",
      "python\n"
     ]
    }
   ],
   "source": [
    "print(\"python\")\n",
    "print('python')"
   ]
  },
  {
   "cell_type": "code",
   "execution_count": 2,
   "id": "72c641ad",
   "metadata": {},
   "outputs": [
    {
     "data": {
      "text/plain": [
       "'this is string'"
      ]
     },
     "execution_count": 2,
     "metadata": {},
     "output_type": "execute_result"
    }
   ],
   "source": [
    "'this is string'\n",
    "\"this is string\""
   ]
  },
  {
   "cell_type": "markdown",
   "id": "9f46138e",
   "metadata": {},
   "source": [
    "# Changing Case in a String with Methods"
   ]
  },
  {
   "cell_type": "markdown",
   "id": "cef0c0cc",
   "metadata": {},
   "source": [
    "In this example, the lowercase string \"python is easy to learn\" is stored in the variable name. The method title() appears after the variable in the print() statement. A method is an action that Python can perform on a piece of data. The \n",
    "dot (.) after name in name.title() tells Python to make the title() method \n",
    "act on the variable name. Every method is followed by a set of parentheses, \n",
    "because methods often need additional information to do their work. \n",
    "That information is provided inside the parentheses. The title() function \n",
    "doesn’t need any additional information, so its parentheses are empty. \n",
    "title() displays each word in titlecase, where each word begins with a \n",
    "capital letter. This is useful because you’ll often want to think of a name as a \n",
    "piece of information."
   ]
  },
  {
   "cell_type": "code",
   "execution_count": 3,
   "id": "5d436880",
   "metadata": {},
   "outputs": [],
   "source": [
    "name=\"  python is easy to learn  \""
   ]
  },
  {
   "cell_type": "code",
   "execution_count": 4,
   "id": "a6dd62a9",
   "metadata": {},
   "outputs": [
    {
     "name": "stdout",
     "output_type": "stream",
     "text": [
      "  Python Is Easy To Learn  \n"
     ]
    }
   ],
   "source": [
    "print(name.title())"
   ]
  },
  {
   "cell_type": "markdown",
   "id": "173d754e",
   "metadata": {},
   "source": [
    "changing this string into capital letter "
   ]
  },
  {
   "cell_type": "code",
   "execution_count": 5,
   "id": "89ea57da",
   "metadata": {},
   "outputs": [
    {
     "data": {
      "text/plain": [
       "'  PYTHON IS EASY TO LEARN  '"
      ]
     },
     "execution_count": 5,
     "metadata": {},
     "output_type": "execute_result"
    }
   ],
   "source": [
    "name.upper()"
   ]
  },
  {
   "cell_type": "code",
   "execution_count": 6,
   "id": "13c5f2b1",
   "metadata": {},
   "outputs": [
    {
     "data": {
      "text/plain": [
       "'  python is easy to learn  '"
      ]
     },
     "execution_count": 6,
     "metadata": {},
     "output_type": "execute_result"
    }
   ],
   "source": [
    "name. lower()\n",
    "#  it will change the sting back into lower letter"
   ]
  },
  {
   "cell_type": "code",
   "execution_count": 7,
   "id": "f7d88023",
   "metadata": {},
   "outputs": [
    {
     "data": {
      "text/plain": [
       "'  python is easy to learn  '"
      ]
     },
     "execution_count": 7,
     "metadata": {},
     "output_type": "execute_result"
    }
   ],
   "source": [
    "name.capitalize()\n",
    "# iit will convert the first letter of the word into capital"
   ]
  },
  {
   "cell_type": "code",
   "execution_count": 8,
   "id": "fc1e9725",
   "metadata": {},
   "outputs": [
    {
     "data": {
      "text/plain": [
       "'  python is easy to learn  '"
      ]
     },
     "execution_count": 8,
     "metadata": {},
     "output_type": "execute_result"
    }
   ],
   "source": [
    "name.casefold()\n",
    "# this function is similar to lower function where the string change into lower letter"
   ]
  },
  {
   "cell_type": "code",
   "execution_count": 9,
   "id": "6f9b7c17",
   "metadata": {},
   "outputs": [
    {
     "data": {
      "text/plain": [
       "1"
      ]
     },
     "execution_count": 9,
     "metadata": {},
     "output_type": "execute_result"
    }
   ],
   "source": [
    "name.count(\"l\")\n",
    "# it is used to count the length of the specific character"
   ]
  },
  {
   "cell_type": "code",
   "execution_count": 10,
   "id": "1b8e5865",
   "metadata": {},
   "outputs": [
    {
     "data": {
      "text/plain": [
       "27"
      ]
     },
     "execution_count": 10,
     "metadata": {},
     "output_type": "execute_result"
    }
   ],
   "source": [
    "len(name)\n",
    "# it is used to count the total length of the string"
   ]
  },
  {
   "cell_type": "code",
   "execution_count": 11,
   "id": "84a8fa91",
   "metadata": {},
   "outputs": [
    {
     "data": {
      "text/plain": [
       "False"
      ]
     },
     "execution_count": 11,
     "metadata": {},
     "output_type": "execute_result"
    }
   ],
   "source": [
    "name.endswith(\"n\")\n",
    "# it will look into the string if the last element is matched with our input it will return the True"
   ]
  },
  {
   "cell_type": "code",
   "execution_count": 12,
   "id": "0175ca92",
   "metadata": {},
   "outputs": [
    {
     "data": {
      "text/plain": [
       "False"
      ]
     },
     "execution_count": 12,
     "metadata": {},
     "output_type": "execute_result"
    }
   ],
   "source": [
    "name.endswith('a')\n",
    "# else false"
   ]
  },
  {
   "cell_type": "code",
   "execution_count": 13,
   "id": "29364df7",
   "metadata": {},
   "outputs": [
    {
     "data": {
      "text/plain": [
       "13"
      ]
     },
     "execution_count": 13,
     "metadata": {},
     "output_type": "execute_result"
    }
   ],
   "source": [
    "name.find(\"a\")\n",
    "# if you want to find the position of element in the sting\n"
   ]
  },
  {
   "cell_type": "code",
   "execution_count": 14,
   "id": "ee1df7cc",
   "metadata": {},
   "outputs": [
    {
     "data": {
      "text/plain": [
       "['python', 'is', 'easy', 'to', 'learn']"
      ]
     },
     "execution_count": 14,
     "metadata": {},
     "output_type": "execute_result"
    }
   ],
   "source": [
    "name.split()\n",
    "# it will break down your strings into tokens mean into single word"
   ]
  },
  {
   "cell_type": "code",
   "execution_count": 15,
   "id": "24e856c1",
   "metadata": {},
   "outputs": [
    {
     "data": {
      "text/plain": [
       "['  python is easy to learn  ']"
      ]
     },
     "execution_count": 15,
     "metadata": {},
     "output_type": "execute_result"
    }
   ],
   "source": [
    "name.splitlines()\n",
    "# if we have multiple string it will be converted into different lines"
   ]
  },
  {
   "cell_type": "code",
   "execution_count": 16,
   "id": "d211071b",
   "metadata": {},
   "outputs": [
    {
     "data": {
      "text/plain": [
       "False"
      ]
     },
     "execution_count": 16,
     "metadata": {},
     "output_type": "execute_result"
    }
   ],
   "source": [
    "name.startswith(\"p\")"
   ]
  },
  {
   "cell_type": "code",
   "execution_count": 17,
   "id": "4bca82ad",
   "metadata": {},
   "outputs": [
    {
     "data": {
      "text/plain": [
       "'python is easy to learn'"
      ]
     },
     "execution_count": 17,
     "metadata": {},
     "output_type": "execute_result"
    }
   ],
   "source": [
    "name.strip()\n",
    "# it is used to remove the both leading and trailing white spaces"
   ]
  },
  {
   "cell_type": "code",
   "execution_count": 18,
   "id": "4c33a3a2",
   "metadata": {},
   "outputs": [
    {
     "data": {
      "text/plain": [
       "'python is easy to learn  '"
      ]
     },
     "execution_count": 18,
     "metadata": {},
     "output_type": "execute_result"
    }
   ],
   "source": [
    "name.lstrip()\n",
    "# it is used to remove the leading spaces"
   ]
  },
  {
   "cell_type": "code",
   "execution_count": 19,
   "id": "0d5ed259",
   "metadata": {},
   "outputs": [
    {
     "data": {
      "text/plain": [
       "'  python is easy to learn'"
      ]
     },
     "execution_count": 19,
     "metadata": {},
     "output_type": "execute_result"
    }
   ],
   "source": [
    "name.rstrip()"
   ]
  },
  {
   "cell_type": "code",
   "execution_count": 20,
   "id": "a3b293fc",
   "metadata": {},
   "outputs": [
    {
     "data": {
      "text/plain": [
       "'  C++ is easy to learn  '"
      ]
     },
     "execution_count": 20,
     "metadata": {},
     "output_type": "execute_result"
    }
   ],
   "source": [
    "name.replace(\"python\",\"C++\")"
   ]
  },
  {
   "cell_type": "code",
   "execution_count": 21,
   "id": "cad0c516",
   "metadata": {},
   "outputs": [
    {
     "name": "stdout",
     "output_type": "stream",
     "text": [
      "Languages:\n",
      "\tpython\n",
      "\tC\n"
     ]
    }
   ],
   "source": [
    "print(\"Languages:\\n\\tpython\\n\\tC\")"
   ]
  },
  {
   "cell_type": "code",
   "execution_count": 22,
   "id": "a4158999",
   "metadata": {},
   "outputs": [],
   "source": [
    "def main():\n",
    "    def add(num1,num2):\n",
    "        result=(num1+num2)\n",
    "        return result\n",
    "def sub(num1,num2):\n",
    "    result=num1-num2\n",
    "    return result\n",
    "def divide(num1,num2):\n",
    "    result=num1/num2\n",
    "    return result\n",
    "def mul(num1,num2):\n",
    "    result=num1*num2\n",
    "    return result"
   ]
  },
  {
   "cell_type": "code",
   "execution_count": 23,
   "id": "9e37fc75",
   "metadata": {},
   "outputs": [
    {
     "data": {
      "text/plain": [
       "0.5"
      ]
     },
     "execution_count": 23,
     "metadata": {},
     "output_type": "execute_result"
    }
   ],
   "source": [
    "2/4"
   ]
  },
  {
   "cell_type": "code",
   "execution_count": 24,
   "id": "9f57436b",
   "metadata": {},
   "outputs": [
    {
     "name": "stdout",
     "output_type": "stream",
     "text": [
      "enter a first number \n"
     ]
    },
    {
     "ename": "ValueError",
     "evalue": "could not convert string to float: ''",
     "output_type": "error",
     "traceback": [
      "\u001b[1;31m---------------------------------------------------------------------------\u001b[0m",
      "\u001b[1;31mValueError\u001b[0m                                Traceback (most recent call last)",
      "Cell \u001b[1;32mIn[24], line 1\u001b[0m\n\u001b[1;32m----> 1\u001b[0m num1\u001b[38;5;241m=\u001b[39m\u001b[38;5;28mfloat\u001b[39m(\u001b[38;5;28minput\u001b[39m(\u001b[38;5;124m\"\u001b[39m\u001b[38;5;124menter a first number \u001b[39m\u001b[38;5;124m\"\u001b[39m))\n\u001b[0;32m      2\u001b[0m num2\u001b[38;5;241m=\u001b[39m\u001b[38;5;28mfloat\u001b[39m(\u001b[38;5;28minput\u001b[39m(\u001b[38;5;124m\"\u001b[39m\u001b[38;5;124menter a second number \u001b[39m\u001b[38;5;124m\"\u001b[39m))\n\u001b[0;32m      3\u001b[0m operation\u001b[38;5;241m=\u001b[39m\u001b[38;5;28minput\u001b[39m(\u001b[38;5;124m\"\u001b[39m\u001b[38;5;124menter a operation\u001b[39m\u001b[38;5;124m\"\u001b[39m)\n",
      "\u001b[1;31mValueError\u001b[0m: could not convert string to float: ''"
     ]
    }
   ],
   "source": [
    "num1=float(input(\"enter a first number \"))\n",
    "num2=float(input(\"enter a second number \"))\n",
    "operation=input(\"enter a operation\")\n",
    "if operation==\"+\":\n",
    "    print(\"result:\",add(num1,num2))\n",
    "elif operation==\"-\":\n",
    "    print(\"result:\",sub(num1,num2))\n",
    "elif operation==\"/\":\n",
    "    print(\"result:\",divide(num1,num2))\n",
    "elif operation==\"*\":\n",
    "    print(\"result:\",mul(num1,num2))\n",
    "main()\n"
   ]
  },
  {
   "cell_type": "code",
   "execution_count": null,
   "id": "a839fe14",
   "metadata": {},
   "outputs": [],
   "source": [
    "# Python program to interchange first and last elements in a list\n",
    "def swapping_list(list):\n",
    "    for items in range(len(list)):\n",
    "        list[0],list[-1]=list[-1],list[0]\n",
    "        return list\n",
    "list=[2,4,5,7,5,6,39,9,10]\n",
    "swapping_list(list)"
   ]
  },
  {
   "cell_type": "markdown",
   "id": "3acdb3bf",
   "metadata": {},
   "source": [
    "# str slicing\n",
    "It is very important to understand"
   ]
  },
  {
   "cell_type": "code",
   "execution_count": null,
   "id": "79247d2a",
   "metadata": {},
   "outputs": [],
   "source": [
    "str=\"my name is abdullah\"\n",
    "print(str)\n",
    "print(len(str)) \n",
    "# len is built in function which is used to find the length of the element\n",
    "'''if you want to excess the first element of the list you can do by using the your str name or [] bracket in brackets\n",
    "you have to mention the position of the element example'''\n",
    "print(str[0])\n",
    "print(str[0:4])\n",
    "print(str[0:19:2])\n",
    "# here also note space is also counted"
   ]
  },
  {
   "cell_type": "markdown",
   "id": "0bc669cc",
   "metadata": {},
   "source": [
    "# Numbers"
   ]
  },
  {
   "cell_type": "markdown",
   "id": "662b2f78",
   "metadata": {},
   "source": [
    "integer"
   ]
  },
  {
   "cell_type": "code",
   "execution_count": 25,
   "id": "e37fb458",
   "metadata": {},
   "outputs": [
    {
     "data": {
      "text/plain": [
       "5"
      ]
     },
     "execution_count": 25,
     "metadata": {},
     "output_type": "execute_result"
    }
   ],
   "source": [
    "2+3\n",
    "# the number without a decimal poits"
   ]
  },
  {
   "cell_type": "markdown",
   "id": "e6a2ad1a",
   "metadata": {},
   "source": [
    "float"
   ]
  },
  {
   "cell_type": "code",
   "execution_count": 26,
   "id": "b2162223",
   "metadata": {},
   "outputs": [
    {
     "data": {
      "text/plain": [
       "6.8"
      ]
     },
     "execution_count": 26,
     "metadata": {},
     "output_type": "execute_result"
    }
   ],
   "source": [
    "2.3+4.5\n",
    "# a number with decimal is called float"
   ]
  },
  {
   "cell_type": "markdown",
   "id": "ea476de3",
   "metadata": {},
   "source": [
    "# avoiding type error with str() Functions"
   ]
  },
  {
   "cell_type": "code",
   "execution_count": 27,
   "id": "b38fc18e",
   "metadata": {},
   "outputs": [
    {
     "name": "stdout",
     "output_type": "stream",
     "text": [
      "muha\n"
     ]
    }
   ],
   "source": [
    "age =26\n",
    "print(\"muha\")\n",
    "# to solve this error we have to convert type of the age variavble into string and this process is called type casting"
   ]
  },
  {
   "cell_type": "code",
   "execution_count": 28,
   "id": "67eba44f",
   "metadata": {},
   "outputs": [
    {
     "name": "stdout",
     "output_type": "stream",
     "text": [
      "Muhammad is 26 years old\n"
     ]
    }
   ],
   "source": [
    "print(\"Muhammad is\"+ \" \"+ str(age) +\" \"+\"years old\")"
   ]
  },
  {
   "cell_type": "markdown",
   "id": "27556318",
   "metadata": {},
   "source": [
    "# comments"
   ]
  },
  {
   "cell_type": "markdown",
   "id": "2a302d9d",
   "metadata": {},
   "source": [
    "In Python, the hash mark (#) indicates a comment. Anything following a \n",
    "hash mark in your code is ignored by the Python interpreter. For example"
   ]
  },
  {
   "cell_type": "code",
   "execution_count": 29,
   "id": "4d688142",
   "metadata": {},
   "outputs": [],
   "source": [
    "# hello python people! it is called single line comment\n"
   ]
  },
  {
   "cell_type": "markdown",
   "id": "f647ace0",
   "metadata": {},
   "source": [
    "# multiline comment\n",
    "it can be used with single quotation or double"
   ]
  },
  {
   "cell_type": "code",
   "execution_count": 30,
   "id": "8c764afe",
   "metadata": {},
   "outputs": [
    {
     "data": {
      "text/plain": [
       "'AI, or Artificial Intelligence, refers to the development and implementation of computer systems\\n      or machines that can perform tasks that would typically require human intelligence.\\n      It is a multidisciplinary field that encompasses various subfields, such as machine learning,\\n      natural language processing, computer vision, robotics, and more.\\n'"
      ]
     },
     "execution_count": 30,
     "metadata": {},
     "output_type": "execute_result"
    }
   ],
   "source": [
    "'''AI, or Artificial Intelligence, refers to the development and implementation of computer systems\n",
    "      or machines that can perform tasks that would typically require human intelligence.\n",
    "      It is a multidisciplinary field that encompasses various subfields, such as machine learning,\n",
    "      natural language processing, computer vision, robotics, and more.\n",
    "'''"
   ]
  },
  {
   "cell_type": "markdown",
   "id": "f095c2ba",
   "metadata": {},
   "source": [
    "# list\n",
    "A list is a collection of items in a particular order. You can make a list that \n",
    "includes the letters of the alphabet, the digits from 0–9, or the names of \n",
    "all the people in your family. You can put anything you want into a list, and \n",
    "the items in your list don’t have to be related in any particular way. Because \n",
    "a list usually contains more than one element, it’s a good idea to make the \n",
    "name of your list plural, such as letters, digits, or names. \n",
    "In Python, square brackets ([]) indicate a list, and individual elements \n",
    "in the list are separated by commas. Here’s a simple example of a list that \n",
    "contains a few kinds of bicycles:"
   ]
  },
  {
   "cell_type": "code",
   "execution_count": 31,
   "id": "366e9963",
   "metadata": {},
   "outputs": [
    {
     "name": "stdout",
     "output_type": "stream",
     "text": [
      "['trek', 'cannondale', 'redline', 'specialized']\n"
     ]
    }
   ],
   "source": [
    "bicycles=['trek', 'cannondale', 'redline', 'specialized']\n",
    "print(bicycles)"
   ]
  },
  {
   "cell_type": "markdown",
   "id": "76146c09",
   "metadata": {},
   "source": [
    "# Accessing Elements in a List\n",
    "Lists are ordered collections, so you can access any element in a list by \n",
    "telling Python the position, or index, of the item desired. To access an element in a list, write the name of the list followed by the index of the item \n",
    "enclosed in square brackets.\n",
    "For example, let’s pull out the first bicycle in the list bicycles:"
   ]
  },
  {
   "cell_type": "code",
   "execution_count": 32,
   "id": "b512a5e1",
   "metadata": {},
   "outputs": [
    {
     "data": {
      "text/plain": [
       "'trek'"
      ]
     },
     "execution_count": 32,
     "metadata": {},
     "output_type": "execute_result"
    }
   ],
   "source": [
    "bicycles[0]\n"
   ]
  },
  {
   "cell_type": "code",
   "execution_count": 33,
   "id": "2c8992ad",
   "metadata": {},
   "outputs": [
    {
     "data": {
      "text/plain": [
       "'Trek'"
      ]
     },
     "execution_count": 33,
     "metadata": {},
     "output_type": "execute_result"
    }
   ],
   "source": [
    "bicycles[0].title()\n",
    "# here we can also use the str function \n"
   ]
  },
  {
   "cell_type": "code",
   "execution_count": 34,
   "id": "1dbb0e97",
   "metadata": {},
   "outputs": [
    {
     "data": {
      "text/plain": [
       "'specialized'"
      ]
     },
     "execution_count": 34,
     "metadata": {},
     "output_type": "execute_result"
    }
   ],
   "source": [
    "# if you want to excess the last element in the list\n",
    "bicycles[-1]"
   ]
  },
  {
   "cell_type": "code",
   "execution_count": 35,
   "id": "ae796ada",
   "metadata": {},
   "outputs": [
    {
     "data": {
      "text/plain": [
       "\"' here first index show the starting or second show how far look into the list or the last index indicate gap mean after\\nwhich you want the element \""
      ]
     },
     "execution_count": 35,
     "metadata": {},
     "output_type": "execute_result"
    }
   ],
   "source": [
    "# if you want to select the range of element you can do like this and this is also called list slicing\n",
    "bicycles[0:4:2] \n",
    "'''' here first index show the starting or second show how far look into the list or the last index indicate gap mean after\n",
    "which you want the element '''"
   ]
  },
  {
   "cell_type": "code",
   "execution_count": 36,
   "id": "4dd1d5af",
   "metadata": {},
   "outputs": [
    {
     "name": "stdout",
     "output_type": "stream",
     "text": [
      "my first bicycles was trek.\n",
      "my first bicycles was trek.\n"
     ]
    }
   ],
   "source": [
    "print(\"my first bicycles was\"+ \" \"+bicycles[0]+ \".\")\n",
    "# it is called string concatenation you can also do this by doing this way\n",
    "print(f'my first bicycles was {bicycles[0]}.') \n",
    "# it is called f string"
   ]
  },
  {
   "cell_type": "markdown",
   "id": "72a02f5f",
   "metadata": {},
   "source": [
    "# Changing, Adding, and Removing Elements\n",
    "# Modifying Elements in a List\n",
    "The syntax for modifying an element is similar to the syntax for accessing \n",
    "an element in a list. To change an element, use the name of the list followed \n",
    "by the index of the element you want to change, and then provide the new \n",
    "value you want that item to have."
   ]
  },
  {
   "cell_type": "code",
   "execution_count": 37,
   "id": "5c0aa70f",
   "metadata": {},
   "outputs": [],
   "source": [
    "motorcycles=[\"Honda\",\"Yamaha\",\"Suzuki\"]\n",
    "# print(motorcycles[0])"
   ]
  },
  {
   "cell_type": "code",
   "execution_count": 38,
   "id": "a1e0501d",
   "metadata": {},
   "outputs": [
    {
     "name": "stdout",
     "output_type": "stream",
     "text": [
      "['Ducati', 'Yamaha', 'Suzuki']\n"
     ]
    }
   ],
   "source": [
    "motorcycles[0]=\"Ducati\"\n",
    "print(motorcycles)\n",
    "# modifying the element"
   ]
  },
  {
   "cell_type": "markdown",
   "id": "41550221",
   "metadata": {},
   "source": [
    "# Adding Element "
   ]
  },
  {
   "cell_type": "code",
   "execution_count": 39,
   "id": "b0b0dca5",
   "metadata": {},
   "outputs": [
    {
     "name": "stdout",
     "output_type": "stream",
     "text": [
      "['Ducati', 'Yamaha', 'Suzuki', 'Harley']\n"
     ]
    }
   ],
   "source": [
    "motorcycles.append(\"Harley\")\n",
    "print(motorcycles)\n",
    "motorcycles.insert(3,\"BMW\")"
   ]
  },
  {
   "cell_type": "markdown",
   "id": "10fade6e",
   "metadata": {},
   "source": [
    "# removing element"
   ]
  },
  {
   "cell_type": "code",
   "execution_count": 40,
   "id": "3fbd2ab0",
   "metadata": {},
   "outputs": [
    {
     "name": "stdout",
     "output_type": "stream",
     "text": [
      "['Ducati', 'Yamaha', 'Suzuki', 'BMW']\n"
     ]
    }
   ],
   "source": [
    "motorcycles.pop() \n",
    "# it will remove the last element of the list\n",
    "print(motorcycles)"
   ]
  },
  {
   "cell_type": "code",
   "execution_count": 41,
   "id": "9cf3f8fc",
   "metadata": {},
   "outputs": [],
   "source": [
    "motorcycles.remove(\"Suzuki\")"
   ]
  },
  {
   "cell_type": "markdown",
   "id": "31b4e582",
   "metadata": {},
   "source": [
    "# Organizing a List\n",
    "Often, your lists will be created in an unpredictable order, because you can’t \n",
    "always control the order in which your users provide their data. Although \n",
    "this is unavoidable in most circumstances, you’ll frequently want to present \n",
    "your information in a particular order. Sometimes you’ll want to preserve the \n",
    "original order of your list, and other times you’ll want to change the origi\u0002nal order. Python provides a number of different ways to organize your lists, \n",
    "depending on the situation"
   ]
  },
  {
   "cell_type": "code",
   "execution_count": 42,
   "id": "9d01d94b",
   "metadata": {},
   "outputs": [],
   "source": [
    "cars=[\"BMW\",\"Mercedes\",\"Toyota\",\"Audi\"]"
   ]
  },
  {
   "cell_type": "code",
   "execution_count": 43,
   "id": "ce73fee2",
   "metadata": {},
   "outputs": [],
   "source": [
    "cars.sort()"
   ]
  },
  {
   "cell_type": "code",
   "execution_count": 44,
   "id": "e9559e4e",
   "metadata": {},
   "outputs": [
    {
     "name": "stdout",
     "output_type": "stream",
     "text": [
      "['Audi', 'BMW', 'Mercedes', 'Toyota']\n"
     ]
    }
   ],
   "source": [
    "print(cars)\n",
    "# it will sort them in alphabatical order"
   ]
  },
  {
   "cell_type": "markdown",
   "id": "47a88610",
   "metadata": {},
   "source": [
    "# Looping Through an Entire List\n",
    "You’ll often want to run through all entries in a list, performing the same \n",
    "task with each item. For example, in a game you might want to move every \n",
    "element on the screen by the same amount, or in a list of numbers you \n",
    "might want to perform the same statistical operation on every element. Or \n",
    "perhaps you’ll want to display each headline from a list of articles on a website. When you want to do the same action with every item in a list, you can \n",
    "use Python’s for loop."
   ]
  },
  {
   "cell_type": "code",
   "execution_count": 45,
   "id": "bc82d904",
   "metadata": {},
   "outputs": [
    {
     "name": "stdout",
     "output_type": "stream",
     "text": [
      "alice\n",
      "david\n",
      "carolina\n"
     ]
    },
    {
     "data": {
      "text/plain": [
       "'we define a for loop. This line tells Python to pull a name from the list \\nmagicians, and store it in the variable magician. At we tell Python to print \\nthe name that was just stored in magician. Python then repeats lines \\nand , once for each name in the list. It might help to read this code as \\n“For every magician in the list of magicians, print the magician’s name.” \\nThe output is a simple printout of each name in the list'"
      ]
     },
     "execution_count": 45,
     "metadata": {},
     "output_type": "execute_result"
    }
   ],
   "source": [
    "magicians=['alice', 'david', 'carolina'] \n",
    "for magician in magicians:\n",
    "    print(magician)\n",
    "'''we define a for loop. This line tells Python to pull a name from the list \n",
    "magicians, and store it in the variable magician. At we tell Python to print \n",
    "the name that was just stored in magician. Python then repeats lines \n",
    "and , once for each name in the list. It might help to read this code as \n",
    "“For every magician in the list of magicians, print the magician’s name.” \n",
    "The output is a simple printout of each name in the list'''"
   ]
  },
  {
   "cell_type": "markdown",
   "id": "62738cf7",
   "metadata": {},
   "source": [
    "# Making Numerical Lists\n",
    "Many reasons exist to store a set of numbers. For example, you’ll need to \n",
    "keep track of the positions of each character in a game, and you might want \n",
    "to keep track of a player’s high scores as well. In data visualizations, you’ll \n",
    "almost always work with sets of numbers, such as temperatures, distances, \n",
    "population sizes, or latitude and longitude values, among other types of \n",
    "numerical sets.\n",
    "Lists are ideal for storing sets of numbers, and Python provides a number of tools to help you work efficiently with lists of numbers. Once you understand how to use these tools effectively, your code will work well even \n",
    "when your lists contain millions of items."
   ]
  },
  {
   "cell_type": "markdown",
   "id": "64982cfe",
   "metadata": {},
   "source": [
    "# Using the range() Function\n",
    "Python’s range() function makes it easy to generate a series of numbers. \n",
    "For example, you can use the range() function to print a series of numbers \n",
    "like this"
   ]
  },
  {
   "cell_type": "code",
   "execution_count": 46,
   "id": "64329e16",
   "metadata": {},
   "outputs": [
    {
     "name": "stdout",
     "output_type": "stream",
     "text": [
      "1\n",
      "2\n",
      "3\n",
      "4\n"
     ]
    }
   ],
   "source": [
    "for i in range(1,5):\n",
    "    print(i)"
   ]
  },
  {
   "cell_type": "markdown",
   "id": "5d3dcb86",
   "metadata": {},
   "source": [
    "# Using range() to Make a List of Numbers\n",
    "If you want to make a list of numbers, you can convert the results of range()\n",
    "directly into a list using the list() function. When you wrap list() around a \n",
    "call to the range() function, the output will be a list of numbers.\n",
    "In the example in the previous section, we simply printed out a series of \n",
    "numbers. We can use list() to convert that same set of numbers into a list:"
   ]
  },
  {
   "cell_type": "code",
   "execution_count": 47,
   "id": "ddac4fda",
   "metadata": {},
   "outputs": [
    {
     "name": "stdout",
     "output_type": "stream",
     "text": [
      "[2, 4, 6, 8, 10]\n"
     ]
    }
   ],
   "source": [
    " even_numbers = list(range(2,11,2)) \n",
    "print(even_numbers)"
   ]
  },
  {
   "cell_type": "code",
   "execution_count": 48,
   "id": "5241ad23",
   "metadata": {},
   "outputs": [
    {
     "name": "stdout",
     "output_type": "stream",
     "text": [
      "[1, 4, 9, 16, 25, 36, 49, 64, 81, 100]\n"
     ]
    }
   ],
   "source": [
    "squared_list=[]\n",
    "for value in range(1,11):\n",
    "    square=value**2\n",
    "    squared_list.append(square)\n",
    "print(squared_list)"
   ]
  },
  {
   "cell_type": "markdown",
   "id": "85db5c25",
   "metadata": {},
   "source": [
    "# Simple Statistics with a List of Numbers"
   ]
  },
  {
   "cell_type": "code",
   "execution_count": 49,
   "id": "2271f2ab",
   "metadata": {},
   "outputs": [
    {
     "data": {
      "text/plain": [
       "0.1"
      ]
     },
     "execution_count": 49,
     "metadata": {},
     "output_type": "execute_result"
    }
   ],
   "source": [
    "def min_number():\n",
    "    mini=number[0]\n",
    "    for items in number:\n",
    "        if items<mini:\n",
    "            mini=items\n",
    "    return mini\n",
    "number=[2,3,5,1,7,0.1,8]\n",
    "min_number()"
   ]
  },
  {
   "cell_type": "code",
   "execution_count": 50,
   "id": "f0680ba3",
   "metadata": {},
   "outputs": [
    {
     "data": {
      "text/plain": [
       "2223"
      ]
     },
     "execution_count": 50,
     "metadata": {},
     "output_type": "execute_result"
    }
   ],
   "source": [
    "def Maax_number():\n",
    "    maxi=list[0]\n",
    "    for items in list:\n",
    "        if items>maxi:\n",
    "            maxi=items\n",
    "    return maxi\n",
    "list=[2223,4,5,666,777]\n",
    "Maax_number()"
   ]
  },
  {
   "cell_type": "code",
   "execution_count": 51,
   "id": "c578173c",
   "metadata": {},
   "outputs": [
    {
     "data": {
      "text/plain": [
       "8"
      ]
     },
     "execution_count": 51,
     "metadata": {},
     "output_type": "execute_result"
    }
   ],
   "source": [
    "max(number)"
   ]
  },
  {
   "cell_type": "code",
   "execution_count": 52,
   "id": "9082b1bb",
   "metadata": {},
   "outputs": [
    {
     "data": {
      "text/plain": [
       "26.1"
      ]
     },
     "execution_count": 52,
     "metadata": {},
     "output_type": "execute_result"
    }
   ],
   "source": [
    "sum(number)"
   ]
  },
  {
   "cell_type": "markdown",
   "id": "767dbc27",
   "metadata": {},
   "source": [
    "# Slicing a List\n",
    "To make a slice, you specify the index of the first and last elements you \n",
    "want to work with. As with the range() function, Python stops one item \n",
    "before the second index you specify. To output the first three elements \n",
    "in a list, you would request indices 0 through 3, which would return ele\u0002ments 0, 1, and 2.\n",
    "The following example involves a list of players on a team:"
   ]
  },
  {
   "cell_type": "code",
   "execution_count": 53,
   "id": "ecf8a067",
   "metadata": {},
   "outputs": [],
   "source": [
    "players = ['charles', 'martina', 'michael', 'florence', 'eli'] \n",
    "# print(players[0:3])"
   ]
  },
  {
   "cell_type": "code",
   "execution_count": 54,
   "id": "16384892",
   "metadata": {},
   "outputs": [],
   "source": [
    "# print(players)\n",
    "# print(players[1:4])"
   ]
  },
  {
   "cell_type": "code",
   "execution_count": 55,
   "id": "8f2c7883",
   "metadata": {},
   "outputs": [
    {
     "name": "stdout",
     "output_type": "stream",
     "text": [
      "['charles', 'martina', 'michael']\n"
     ]
    }
   ],
   "source": [
    "print(players[:-2])"
   ]
  },
  {
   "cell_type": "code",
   "execution_count": 56,
   "id": "e4346350",
   "metadata": {},
   "outputs": [
    {
     "name": "stdout",
     "output_type": "stream",
     "text": [
      "['martina', 'michael', 'florence']\n"
     ]
    }
   ],
   "source": [
    "print(players[1:4])"
   ]
  },
  {
   "cell_type": "code",
   "execution_count": 57,
   "id": "f8187427",
   "metadata": {},
   "outputs": [
    {
     "name": "stdout",
     "output_type": "stream",
     "text": [
      "['charles', 'martina', 'michael', 'florence']\n"
     ]
    }
   ],
   "source": [
    "print(players[:4])"
   ]
  },
  {
   "cell_type": "code",
   "execution_count": 58,
   "id": "bd3164c5",
   "metadata": {},
   "outputs": [
    {
     "name": "stdout",
     "output_type": "stream",
     "text": [
      "['charles', 'michael', 'eli']\n"
     ]
    }
   ],
   "source": [
    "print(players[0:5:2])"
   ]
  },
  {
   "cell_type": "code",
   "execution_count": 59,
   "id": "e4a1d741",
   "metadata": {},
   "outputs": [
    {
     "name": "stdout",
     "output_type": "stream",
     "text": [
      "[777, 666, 5, 4, 2223]\n"
     ]
    }
   ],
   "source": [
    "def reverse_func():\n",
    "    e=[]\n",
    "    for items in list[::-1]:\n",
    "        e.append(items)\n",
    "    print (e)\n",
    "        \n",
    "reverse_func()"
   ]
  },
  {
   "cell_type": "code",
   "execution_count": 60,
   "id": "3830c772",
   "metadata": {},
   "outputs": [
    {
     "data": {
      "text/plain": [
       "5"
      ]
     },
     "execution_count": 60,
     "metadata": {},
     "output_type": "execute_result"
    }
   ],
   "source": [
    "def len_func():\n",
    "    len=0\n",
    "    for items in list:\n",
    "        len +=1\n",
    "    return len\n",
    "len_func()"
   ]
  },
  {
   "cell_type": "code",
   "execution_count": 61,
   "id": "41b50c6e",
   "metadata": {},
   "outputs": [
    {
     "data": {
      "text/plain": [
       "[2, 3, 4, 5]"
      ]
     },
     "execution_count": 61,
     "metadata": {},
     "output_type": "execute_result"
    }
   ],
   "source": [
    "def list_sorter():\n",
    "    list=[3,2,4,5]\n",
    "    for i in range(0,len(list)):\n",
    "        for j in range(1,len(list)):\n",
    "            if list[i]>list[j]:\\\n",
    "                list[i],list[j]=list[j],list[i]\n",
    "        return list\n",
    "list_sorter()"
   ]
  },
  {
   "cell_type": "markdown",
   "id": "545f73c2",
   "metadata": {},
   "source": [
    "# Looping Through a Slice\n",
    "You can use a slice in a for loop if you want to loop through a subset of \n",
    "the elements in a list. In the next example we loop through the first three \n",
    "players and print their names as part of a simple roster"
   ]
  },
  {
   "cell_type": "code",
   "execution_count": 61,
   "id": "0388c996",
   "metadata": {},
   "outputs": [
    {
     "name": "stdout",
     "output_type": "stream",
     "text": [
      "Charles\n",
      "Martina\n",
      "Michael\n"
     ]
    }
   ],
   "source": [
    "for players in players[:3]:\n",
    "    print(players.title())"
   ]
  },
  {
   "cell_type": "code",
   "execution_count": 62,
   "id": "a14afe30",
   "metadata": {},
   "outputs": [
    {
     "name": "stdout",
     "output_type": "stream",
     "text": [
      "My favorite foods are:\n",
      "['pizza', 'falafel', 'carrot cake']\n",
      "\n",
      "My friend's favorite foods are:\n",
      "['pizza', 'falafel', 'carrot cake']\n"
     ]
    }
   ],
   "source": [
    "my_foods = ['pizza', 'falafel', 'carrot cake']\n",
    "friend_foods = my_foods[:]\n",
    "print(\"My favorite foods are:\")\n",
    "print(my_foods)\n",
    "print(\"\\nMy friend's favorite foods are:\")\n",
    "print(friend_foods)"
   ]
  },
  {
   "cell_type": "code",
   "execution_count": 63,
   "id": "f261f3f4",
   "metadata": {},
   "outputs": [
    {
     "name": "stdout",
     "output_type": "stream",
     "text": [
      "my favourite food are:\n",
      "['Biryani', 'Pizza', 'Roost', 'burger']\n",
      "\n",
      " my friends favourite food are\n",
      "['pizza', 'falafel', 'carrot cake']\n"
     ]
    }
   ],
   "source": [
    "my_foods=[\"Biryani\",\"Pizza\",\"Roost\",\"burger\"]\n",
    "friend_food=my_foods[:]\n",
    "print(\"my favourite food are:\")\n",
    "print(my_foods)\n",
    "print(\"\\n my friends favourite food are\")\n",
    "print(friend_foods)"
   ]
  },
  {
   "cell_type": "markdown",
   "id": "842303fc",
   "metadata": {},
   "source": [
    "# Tuples\n",
    "lists work well for storing sets of items that can change throughout the \n",
    "life of a program. The ability to modify lists is particularly important when \n",
    "you’re working with a list of users on a website or a list of characters in a \n",
    "game. However, sometimes you’ll want to create a list of items that cannot \n",
    "change. Tuples allow you to do just that. Python refers to values that cannot \n",
    "change as immutable, and an immutable list is called a tuple."
   ]
  },
  {
   "cell_type": "code",
   "execution_count": 64,
   "id": "71181dc7",
   "metadata": {},
   "outputs": [
    {
     "name": "stdout",
     "output_type": "stream",
     "text": [
      "<class 'tuple'>\n",
      "200\n",
      "50\n"
     ]
    }
   ],
   "source": [
    "dimensions = (200, 50)\n",
    "print(type(dimensions))\n",
    "print(dimensions[0])\n",
    "print(dimensions[1])"
   ]
  },
  {
   "cell_type": "code",
   "execution_count": 66,
   "id": "f8883a94",
   "metadata": {},
   "outputs": [
    {
     "name": "stdout",
     "output_type": "stream",
     "text": [
      "this will not work\n"
     ]
    },
    {
     "data": {
      "text/plain": [
       "'The code at we tries to change the value of the first dimension, but \\nPython returns a type error. Basically, because we’re trying to alter a tuple, \\nwhich can’t be done to that type of object, Python tells us we can’t assign a \\nnew value to an item in a tuple'"
      ]
     },
     "execution_count": 66,
     "metadata": {},
     "output_type": "execute_result"
    }
   ],
   "source": [
    "# Let’s see what happens if we try to change one of the items in the tuple dimensions\n",
    "try:\n",
    "    dimensions[0]=60\n",
    "except:\n",
    "    print(\"this will not work\")\n",
    "'''The code at we tries to change the value of the first dimension, but \n",
    "Python returns a type error. Basically, because we’re trying to alter a tuple, \n",
    "which can’t be done to that type of object, Python tells us we can’t assign a \n",
    "new value to an item in a tuple'''"
   ]
  },
  {
   "cell_type": "markdown",
   "id": "e9886fe7",
   "metadata": {},
   "source": [
    "# looping Through All Values in a Tuple"
   ]
  },
  {
   "cell_type": "code",
   "execution_count": 120,
   "id": "adaec008",
   "metadata": {},
   "outputs": [
    {
     "name": "stdout",
     "output_type": "stream",
     "text": [
      "<class 'list'>\n"
     ]
    }
   ],
   "source": [
    "# # for dimension in dimensions:\n",
    "# #     print(dimension)\n",
    "square=[i**2 for i in range(1,11)]\n",
    "print(type(square))\n",
    "b=[]\n",
    "# for i in range(1,11):\n",
    "#     a=i**2\n",
    "#     b.append(a)\n",
    "# print(b)"
   ]
  },
  {
   "cell_type": "markdown",
   "id": "f3b45844",
   "metadata": {},
   "source": [
    "# Writing over a Tuple"
   ]
  },
  {
   "cell_type": "code",
   "execution_count": 121,
   "id": "47f8bae2",
   "metadata": {},
   "outputs": [
    {
     "name": "stdout",
     "output_type": "stream",
     "text": [
      "original dimension\n",
      "200\n",
      "50\n",
      "\n",
      "The modified dimension is\n",
      "300\n",
      "100\n"
     ]
    }
   ],
   "source": [
    "print(\"original dimension\")\n",
    "for dimension in dimensions:\n",
    "    print(dimension)\n",
    "modified_dimensions=(300,100)\n",
    "print(\"\\nThe modified dimension is\")\n",
    "for modified in modified_dimensions:\n",
    "    print(modified)"
   ]
  },
  {
   "cell_type": "markdown",
   "id": "4bc21bef",
   "metadata": {},
   "source": [
    "A buffet-style restaurant offers only five basic foods. Think of five \n",
    "simple foods, and store them in a tuple.\n",
    "\n",
    "•\t Use a for loop to print each food the restaurant offers.\n",
    "•\t Try to modify one of the items, and make sure that Python rejects the \n",
    "change.\n",
    "\n",
    "•The restaurant changes its menu, replacing two of the items with different \n",
    "foods. Add a block of code that rewrites the tuple, and then use a for\n",
    "loop to print each of the items on the revised menu."
   ]
  },
  {
   "cell_type": "code",
   "execution_count": 122,
   "id": "41810ede",
   "metadata": {},
   "outputs": [
    {
     "name": "stdout",
     "output_type": "stream",
     "text": [
      "Burger\n",
      "French Fries\n",
      "BBQ\n",
      "ROLL\n",
      "Club Sandwich\n"
     ]
    }
   ],
   "source": [
    "restaurant_menu=(\"Burger\",\"French Fries\",\"BBQ\",\"ROLL\",\"Club Sandwich\")\n",
    "for foods in restaurant_menu:\n",
    "    print(foods)"
   ]
  },
  {
   "cell_type": "code",
   "execution_count": 123,
   "id": "f670cc3b",
   "metadata": {},
   "outputs": [
    {
     "data": {
      "text/plain": [
       "'Try to modify one of the items, and make sure that Python rejects the \\nchange.'"
      ]
     },
     "execution_count": 123,
     "metadata": {},
     "output_type": "execute_result"
    }
   ],
   "source": [
    "'''Try to modify one of the items, and make sure that Python rejects the \n",
    "change.'''\n",
    "\n",
    "# restaurant_menu[0]=\"Zinger Burger\""
   ]
  },
  {
   "cell_type": "code",
   "execution_count": 124,
   "id": "f96dafab",
   "metadata": {},
   "outputs": [
    {
     "name": "stdout",
     "output_type": "stream",
     "text": [
      "PREVIOUS MENU IS\n",
      "Burger\n",
      "French Fries\n",
      "BBQ\n",
      "ROLL\n",
      "Club Sandwich\n",
      "\n",
      "THE REVISED MENU IS\n",
      "Burger\n",
      "French Fries\n",
      "BBQ\n",
      "Biryani\n",
      "Chicken krhie\n"
     ]
    }
   ],
   "source": [
    "print(\"PREVIOUS MENU IS\")\n",
    "for foods in restaurant_menu:\n",
    "    print(foods)\n",
    "revised_menu=(\"Burger\",\"French Fries\",\"BBQ\",\"Biryani\",\"Chicken krhie\")\n",
    "print(\"\\nTHE REVISED MENU IS\")\n",
    "for foods in revised_menu:\n",
    "    print(foods)\n",
    "    "
   ]
  },
  {
   "cell_type": "markdown",
   "id": "356af477",
   "metadata": {},
   "source": [
    "# If S tatements\n",
    "The following short example shows how if tests let you respond to special \n",
    "situations correctly. Imagine you have a list of cars and you want to print \n",
    "out the name of each car. Car names are proper names, so the names of \n",
    "most cars should be printed in title case. However, the value 'bmw' should \n",
    "be printed in all uppercase. The following code loops through a list of car \n",
    "names and looks for the value 'bmw'. Whenever the value is 'bmw', it’s printed \n",
    "in uppercase instead of title case"
   ]
  },
  {
   "cell_type": "code",
   "execution_count": 125,
   "id": "88ee1270",
   "metadata": {},
   "outputs": [
    {
     "name": "stdout",
     "output_type": "stream",
     "text": [
      "Audi\n",
      "BMW\n",
      "Subaru\n",
      "Toyota\n",
      "Mercedes\n"
     ]
    }
   ],
   "source": [
    "cars = ['audi', 'bmw', 'subaru', 'toyota',\"mercedes\"]\n",
    "for car in cars:\n",
    "    if car ==\"bmw\":\n",
    "        upper=car.upper()\n",
    "        print(upper)\n",
    "    else:\n",
    "        print(car.title())"
   ]
  },
  {
   "cell_type": "markdown",
   "id": "6e534808",
   "metadata": {},
   "source": [
    "# Conditional Tests\n",
    "At the heart of every if statement is an expression that can be evaluated as \n",
    "True or False and is called a conditional test. Python uses the values True and \n",
    "False to decide whether the code in an if statement should be executed. If a \n",
    "conditional test evaluates to True, Python executes the code following the if\n",
    "statement. If the test evaluates to False, Python ignores the code following \n",
    "the if statement."
   ]
  },
  {
   "cell_type": "markdown",
   "id": "391ddd61",
   "metadata": {},
   "source": [
    "# Checking for Equality\n",
    "Most conditional tests compare the current value of a variable to a specific \n",
    "value of interest. The simplest conditional test checks whether the value of a \n",
    "variable is equal to the value of interest"
   ]
  },
  {
   "cell_type": "code",
   "execution_count": 126,
   "id": "cb7dab18",
   "metadata": {},
   "outputs": [
    {
     "data": {
      "text/plain": [
       "\"The line at u sets the value of car to 'bmw' using a single equal sign,as you’ve seen many times already. \\nThe line at checks whether the value of car is 'bmw' using a double equal sign (==). This equality operator returns \\nTrue if the values on the left and right side of the operator match, and \\nFalse if they don’t match. The values in this example match, so Python \\nreturns True.\\nWhen the value of car is anything other than 'bmw', this test returns \\nFalse:\""
      ]
     },
     "execution_count": 126,
     "metadata": {},
     "output_type": "execute_result"
    }
   ],
   "source": [
    "car=\"bmw\"\n",
    "car==\"bmw\"\n",
    "'''The line at u sets the value of car to 'bmw' using a single equal sign,as you’ve seen many times already. \n",
    "The line at checks whether the value of car is 'bmw' using a double equal sign (==). This equality operator returns \n",
    "True if the values on the left and right side of the operator match, and \n",
    "False if they don’t match. The values in this example match, so Python \n",
    "returns True.\n",
    "When the value of car is anything other than 'bmw', this test returns \n",
    "False:'''"
   ]
  },
  {
   "cell_type": "markdown",
   "id": "f405c66b",
   "metadata": {},
   "source": [
    "# Checking for Inequality\n",
    "When you want to determine whether two values are not equal, you can \n",
    "combine an exclamation point and an equal sign (!=). The exclamation \n",
    "point represents not, as it does in many programming languages.\n",
    "Let’s use another if statement to examine how to use the inequality \n",
    "operator. We’ll store a requested pizza topping in a variable and then print \n",
    "a message if the person did not order anchovies\n"
   ]
  },
  {
   "cell_type": "code",
   "execution_count": 127,
   "id": "8bd47cc9",
   "metadata": {},
   "outputs": [
    {
     "name": "stdout",
     "output_type": "stream",
     "text": [
      "Hold the anchovies!\n"
     ]
    }
   ],
   "source": [
    "requested_topping = 'mushrooms'\n",
    "if requested_topping != 'anchovies':\n",
    "    print(\"Hold the anchovies!\")"
   ]
  },
  {
   "cell_type": "markdown",
   "id": "722beb80",
   "metadata": {},
   "source": [
    "# Numerical Comparisons\n",
    "Testing numerical values is pretty straightforward. For example, the follow\u0002ing code checks whether a person is 18 years old:"
   ]
  },
  {
   "cell_type": "code",
   "execution_count": 128,
   "id": "732e3853",
   "metadata": {},
   "outputs": [
    {
     "data": {
      "text/plain": [
       "True"
      ]
     },
     "execution_count": 128,
     "metadata": {},
     "output_type": "execute_result"
    }
   ],
   "source": [
    "age=18\n",
    "age==18"
   ]
  },
  {
   "cell_type": "code",
   "execution_count": 129,
   "id": "585a599d",
   "metadata": {},
   "outputs": [
    {
     "name": "stdout",
     "output_type": "stream",
     "text": [
      "That is not the correct answer. Please Try Again!\n"
     ]
    }
   ],
   "source": [
    "answer=16\n",
    "if answer!=42:\n",
    "    print(\"That is not the correct answer. Please Try Again!\")"
   ]
  },
  {
   "cell_type": "markdown",
   "id": "330fa25a",
   "metadata": {},
   "source": [
    "# Checking Whether a Value Is Not in a List\n",
    "Other times, it’s important to know if a value does not appear in a list. You \n",
    "can use the keyword not in this situation. For example, consider a list of users \n",
    "who are banned from commenting in a forum. You can check whether a \n",
    "user has been banned before allowing that person to submit a comment:"
   ]
  },
  {
   "cell_type": "code",
   "execution_count": 130,
   "id": "78f1e872",
   "metadata": {},
   "outputs": [
    {
     "name": "stdout",
     "output_type": "stream",
     "text": [
      "Marie, you can post a response if you wish.\n"
     ]
    }
   ],
   "source": [
    "banned_users = ['andrew', 'carolina', 'david']\n",
    "user = 'marie'\n",
    "if user not in banned_users:\n",
    "    print(user.title() + \", you can post a response if you wish.\")"
   ]
  },
  {
   "cell_type": "markdown",
   "id": "e6c6058e",
   "metadata": {},
   "source": [
    "# Boolean Expressions\n",
    "As you learn more about programming, you’ll hear the term Boolean \n",
    "expression at some point. A Boolean expression is just another name for a \n",
    "conditional test. A Boolean value is either True or False, just like the value \n",
    "of a conditional expression after it has been evaluated.\n",
    "Boolean values are often used to keep track of certain conditions, such \n",
    "as whether a game is running or whether a user can edit certain content on \n",
    "a website"
   ]
  },
  {
   "cell_type": "code",
   "execution_count": 131,
   "id": "256343cc",
   "metadata": {},
   "outputs": [],
   "source": [
    "game_active = True\n",
    "can_edit = False\n",
    "# Boolean values provide an efficient way to track the state of a program \n",
    "# or a particular condition that is important in your program."
   ]
  },
  {
   "cell_type": "markdown",
   "id": "fc515035",
   "metadata": {},
   "source": [
    "# Simple if Statements"
   ]
  },
  {
   "cell_type": "code",
   "execution_count": 133,
   "id": "245e3069",
   "metadata": {},
   "outputs": [
    {
     "name": "stdout",
     "output_type": "stream",
     "text": [
      "enter your age 19\n",
      "You are old enough to Vote!\n"
     ]
    }
   ],
   "source": [
    "age=int(input(\"enter your age \"))\n",
    "# Tking input from the user\n",
    "if age >=18:\n",
    "    print(\"You are old enough to Vote!\")"
   ]
  },
  {
   "cell_type": "markdown",
   "id": "e247ad11",
   "metadata": {},
   "source": [
    "# If Else Statement"
   ]
  },
  {
   "cell_type": "markdown",
   "id": "e8d4a0ac",
   "metadata": {},
   "source": [
    "##### age=int(input(\"enter your age \"))\n",
    "# Tking input from the user\n",
    "if age >=18:\n",
    "    print(\"You are old enough to Vote!\")\n",
    "else:\n",
    "    print(\"Sorry, you are too young to vote.\")\n",
    "    print(\"Please register to vote as soon as you turn 18!\")"
   ]
  },
  {
   "cell_type": "code",
   "execution_count": 134,
   "id": "8ba1a365",
   "metadata": {},
   "outputs": [
    {
     "name": "stdout",
     "output_type": "stream",
     "text": [
      "enter the age6\n",
      "$5\n"
     ]
    }
   ],
   "source": [
    "# Admission for anyone under age 4 is free.\n",
    "# •\t Admission for anyone between the ages of 4 and 18 is $5.\n",
    "# •\t Admission for anyone age 18 or older is $10\n",
    "\n",
    "\n",
    "age=int(input(\"enter the age\"))\n",
    "if age<4:\n",
    "    print(\"Free\")\n",
    "elif age >=4 and age<18:\n",
    "    print(\"$5\")\n",
    "else:\n",
    "    print(\"$10\")"
   ]
  },
  {
   "cell_type": "markdown",
   "id": "b6a67e18",
   "metadata": {},
   "source": [
    "# Testing Multiple Condition\n",
    "The if-elif-else chain is powerful, but it’s only appropriate to use when you \n",
    "just need one test to pass. As soon as Python finds one test that passes, it \n",
    "skips the rest of the tests. This behavior is beneficial, because it’s efficient \n",
    "and allows you to test for one specific condition.\n",
    "However, sometimes it’s important to check all of the conditions of \n",
    "interest. In this case, you should use a series of simple if statements with no \n",
    "elif or else blocks. This technique makes sense when more than one condi\u0002tion could be True, and you want to act on every condition that is True.\n",
    "Let’s reconsider the pizzeria example. If someone requests a two-topping \n",
    "pizza, you’ll need to be sure to include both toppings on their pizza:"
   ]
  },
  {
   "cell_type": "code",
   "execution_count": 135,
   "id": "293ada65",
   "metadata": {},
   "outputs": [
    {
     "name": "stdout",
     "output_type": "stream",
     "text": [
      "Adding mehrooms\n",
      "Adding extra cheese\n",
      "Your pizza is ready\n"
     ]
    }
   ],
   "source": [
    "requested_toppings = ['mushrooms', 'extra cheese']\n",
    "if 'mushrooms'in requested_toppings:\n",
    "    print(\"Adding mehrooms\",)\n",
    "if 'extra cheese' in requested_toppings:\n",
    "    print(\"Adding extra cheese\")\n",
    "print(\"Your pizza is ready\")"
   ]
  },
  {
   "cell_type": "code",
   "execution_count": 136,
   "id": "12647958",
   "metadata": {},
   "outputs": [
    {
     "name": "stdout",
     "output_type": "stream",
     "text": [
      "player earned 5 points\n",
      "\n"
     ]
    }
   ],
   "source": [
    "# Alien Colors #1: Imagine an alien was just shot down in a game. Create a \n",
    "# variable called alien_color and assign it a value of 'green', 'yellow', or 'red'.\n",
    "# •\t Write an if statement to test whether the alien’s color is green. If it is, print \n",
    "# a message that the player just earned 5 points.\n",
    "# •\t Write one version of this program that passes the if test and another that \n",
    "# fails. (The version that fails will have no output.)\n",
    "Alien_color=\"green\",\"red\",\"yellow\"\n",
    "for color in Alien_color:\n",
    "\n",
    "    if color==\"green\":\n",
    "        print(\"player earned 5 points\")\n",
    "else:\n",
    "    print(\"\")"
   ]
  },
  {
   "cell_type": "code",
   "execution_count": 142,
   "id": "c8dd1017",
   "metadata": {},
   "outputs": [
    {
     "name": "stdout",
     "output_type": "stream",
     "text": [
      "player earned 5 points\n",
      "player earned 10 npoints\n",
      "player earned 10 npoints\n"
     ]
    }
   ],
   "source": [
    "Alien_color=\"green\",\"red\",\"yellow\"\n",
    "for color in Alien_color:\n",
    "    if color==\"green\":\n",
    "        print(\"player earned 5 points\")\n",
    "    elif color!='green':\n",
    "        print(\"player earned 10 npoints\")"
   ]
  },
  {
   "cell_type": "code",
   "execution_count": 145,
   "id": "4bf6d38f",
   "metadata": {},
   "outputs": [
    {
     "name": "stdout",
     "output_type": "stream",
     "text": [
      "player earned 5 points\n",
      "player earned 10 points\n",
      "player earned 10 points\n"
     ]
    }
   ],
   "source": [
    "for color in Alien_color:\n",
    "    if color==\"green\":\n",
    "        print(\"player earned 5 points\")\n",
    "    else:\n",
    "        print(\"player earned 10 points\")"
   ]
  },
  {
   "cell_type": "code",
   "execution_count": 66,
   "id": "c8e7af82",
   "metadata": {},
   "outputs": [
    {
     "name": "stdout",
     "output_type": "stream",
     "text": [
      "Adding mushrooms.\n",
      "Adding gree paper.\n",
      "Adding extra cheese.\n",
      "\n",
      " Finished making your pizza\n"
     ]
    }
   ],
   "source": [
    "requested_toppings = ['mushrooms', 'gree paper','extra cheese']\n",
    "# print(requested_toppings[0])\n",
    "for toppings in requested_toppings:\n",
    "        print(\"Adding\"+\" \"+toppings+\".\")\n",
    "print(\"\\n Finished making your pizza\")"
   ]
  },
  {
   "cell_type": "code",
   "execution_count": 148,
   "id": "1c05ff85",
   "metadata": {},
   "outputs": [
    {
     "name": "stdout",
     "output_type": "stream",
     "text": [
      "Adding mushrooms.\n",
      "sorry we are out of green papers right now. \n",
      "Adding extra cheese.\n",
      "\n",
      " Finished making your pizza\n"
     ]
    }
   ],
   "source": [
    "requested_toppings = ['mushrooms', 'green paper','extra cheese']\n",
    "for toppings in requested_toppings:\n",
    "    if toppings==\"green paper\":\n",
    "        print(\"sorry we are out of green papers right now. \")\n",
    "    else:\n",
    "        print(\"Adding\"+\" \"+toppings+\".\")\n",
    "\n",
    "print(\"\\n Finished making your pizza\")"
   ]
  },
  {
   "cell_type": "code",
   "execution_count": 150,
   "id": "060c2a55",
   "metadata": {},
   "outputs": [],
   "source": [
    "requested_topping=[]\n",
    "if requested_topping:\n",
    "    for topping in requested_topping:\n",
    "        print(\"adding\"+\" \"+topping+\".\")\n",
    "    print(\"\\n finished making your pizza\")\n",
    "else:\n",
    "    print(\"Are you sure you want a plan pizza?\")\n",
    "'''This time we start out with an empty list of requested toppings\n",
    "Instead of jumping right into a for loop, we do a quick check at When the \n",
    "name of a list is used in an if statement, Python returns True if the list contains at least one item;\n",
    "an empty list evaluates to False. If requested_toppings\n",
    "passes the conditional test, we run the same for loop we used in the previous \n",
    "example. If the conditional test fails, we print a message asking the customer \n",
    "if they really want a plain pizza with no toppings w.\n",
    "The list is empty in this case, so the output asks if the user really wants \n",
    "a plain pizza:'''\n",
    "    "
   ]
  },
  {
   "cell_type": "markdown",
   "id": "8f41609e",
   "metadata": {},
   "source": [
    "# sing Multiple Lists\n",
    "People will ask for just about anything, especially when it comes to pizza \n",
    "toppings. What if a customer actually wants french fries on their pizza? You \n",
    "can use lists and if statements to make sure your input makes sense before \n",
    "you act on it.\n",
    "Let’s watch out for unusual topping requests before we build a pizza. \n",
    "The following example defines two lists. The first is a list of available top\u0002pings at the pizzeria, and the second is the list of toppings that the user has \n",
    "requested. This time, each item in requested_toppings is checked against the \n",
    "list of available toppings before it’s added to the pizza:"
   ]
  },
  {
   "cell_type": "code",
   "execution_count": 69,
   "id": "21f4855a",
   "metadata": {},
   "outputs": [
    {
     "name": "stdout",
     "output_type": "stream",
     "text": [
      "adding mushrooms.\n",
      "adding extra cheese.\n",
      "\n",
      " sorry we do not have\n",
      "\n",
      " your pizza is ready\n"
     ]
    }
   ],
   "source": [
    "available_toppings = ['mushrooms', 'olives', 'green peppers','pepperoni', 'pineapple', 'extra cheese']\n",
    "requested_topping=['mushrooms','extra cheese','french fries']\n",
    "for topping in requested_topping:\n",
    "    if topping in available_toppings:\n",
    "        print(\"adding\"+\" \"+topping+\".\")\n",
    "    else:\n",
    "        print(\"\\n sorry we do not have\")\n",
    "print('\\n your pizza is ready')\n",
    "  "
   ]
  },
  {
   "cell_type": "code",
   "execution_count": 70,
   "id": "a914bcd9",
   "metadata": {},
   "outputs": [
    {
     "name": "stdout",
     "output_type": "stream",
     "text": [
      "hello abdullah\n",
      "hello Admin Would you like to see a status report\n",
      "hello Bilal\n",
      "hello kamil\n",
      "hello fawad\n"
     ]
    }
   ],
   "source": [
    "# If the username is 'admin', print a special greeting, such as Hello admin, \n",
    "# would you like to see a status report?\n",
    "# •\t Otherwise, print a generic greeting, such as Hello Eric, thank you for log\u0002ging in aga\n",
    "username=['abdullah','admin','Bilal','kamil','fawad']\n",
    "for name in username:\n",
    "    if name=='admin':\n",
    "        print(\"hello\",name.title(),\"Would you like to see a status report\")\n",
    "    else:\n",
    "        print(\"hello\",name)\n"
   ]
  },
  {
   "cell_type": "code",
   "execution_count": 1,
   "id": "d7e5c3f1",
   "metadata": {},
   "outputs": [
    {
     "ename": "IndentationError",
     "evalue": "expected an indented block (3738173006.py, line 10)",
     "output_type": "error",
     "traceback": [
      "\u001b[1;36m  File \u001b[1;32m\"C:\\Users\\abdul\\AppData\\Local\\Temp\\ipykernel_3516\\3738173006.py\"\u001b[1;36m, line \u001b[1;32m10\u001b[0m\n\u001b[1;33m    else:\u001b[0m\n\u001b[1;37m    ^\u001b[0m\n\u001b[1;31mIndentationError\u001b[0m\u001b[1;31m:\u001b[0m expected an indented block\n"
     ]
    }
   ],
   "source": [
    "# Add an if test to hello_admin.py to make sure the list of users is \n",
    "# not empty.\n",
    "# •\t If the list is empty, print the message We need to find some users!\n",
    "# •\t Remove all of the usernames from your list, and make sure the correct \n",
    "# message is printed\n",
    "username=[]\n",
    "if username:\n",
    "#     for name in username:\n",
    "#         print(\"Hello\",name.title())\n",
    "else:\n",
    "    print(\"We need to find some user\")\n"
   ]
  },
  {
   "cell_type": "code",
   "execution_count": 6,
   "id": "273b78bb",
   "metadata": {},
   "outputs": [
    {
     "name": "stdout",
     "output_type": "stream",
     "text": [
      "Username already Exist Abdullah\n",
      "Username already Exist Fawad\n",
      "Login into Hassan account\n",
      "Login into Umair account\n",
      "Login into Taimoor account\n"
     ]
    }
   ],
   "source": [
    "# -10. Checking Usernames: Do the following to create a program that simulates \n",
    "# how websites ensure that everyone has a unique username.\n",
    "# •\t Make a list of five or more usernames called current_users.\n",
    "# •\t Make another list of five usernames called new_users. Make sure one or \n",
    "# two of the new usernames are also in the current_users list.\n",
    "# •\t Loop through the new_users list to see if each new username has already \n",
    "# been used. If it has, print a message that the person will need to enter a \n",
    "# new username. If a username has not been used, print a message saying \n",
    "# that the username is available.\n",
    "# •\t Make sure your comparison is case insensitive. If 'John' has been used, \n",
    "# 'JOHN' should not be accepted.\n",
    "current_user=['abdullah','fawad','hassan','umair','taimoor']\n",
    "new_user=['kamil','inayat','jabbar','fawad','abdullah']\n",
    "for username in current_user:\n",
    "    if username in new_user:\n",
    "        print (\"Username already Exist\",username.title())\n",
    "#         print(\"type new username\")\n",
    "    else:\n",
    "        print(f\"Login into {username.title()} account\")"
   ]
  },
  {
   "cell_type": "markdown",
   "id": "d610501f",
   "metadata": {},
   "source": [
    "# Dictionaries "
   ]
  },
  {
   "cell_type": "code",
   "execution_count": 9,
   "id": "4cb59bad",
   "metadata": {},
   "outputs": [
    {
     "name": "stdout",
     "output_type": "stream",
     "text": [
      "color green\n",
      "points 5\n"
     ]
    }
   ],
   "source": [
    "alien_0 = {'color': 'green', 'points': 5}\n",
    "for items in alien_0:\n",
    "    print(items,alien_0[items])\n",
    "# print(alien_0['color'])"
   ]
  },
  {
   "cell_type": "markdown",
   "id": "c34d118a",
   "metadata": {},
   "source": [
    "# Adding New Key-Value Pairs"
   ]
  },
  {
   "cell_type": "code",
   "execution_count": 11,
   "id": "e07460eb",
   "metadata": {},
   "outputs": [
    {
     "data": {
      "text/plain": [
       "{'color': 'green', 'points': 5, 'x_position': 0, 'y_position': 25}"
      ]
     },
     "execution_count": 11,
     "metadata": {},
     "output_type": "execute_result"
    }
   ],
   "source": [
    "alien_0['x_position']=0\n",
    "alien_0['y_position']=25\n",
    "alien_0"
   ]
  },
  {
   "cell_type": "markdown",
   "id": "1b4d65f4",
   "metadata": {},
   "source": [
    "# modifying Values in a Dictionary"
   ]
  },
  {
   "cell_type": "code",
   "execution_count": 67,
   "id": "5c98f692",
   "metadata": {},
   "outputs": [
    {
     "name": "stdout",
     "output_type": "stream",
     "text": [
      "The alien is Green.\n",
      "The alien now Yellow.\n"
     ]
    }
   ],
   "source": [
    "alien_0={\"color\":\"green\"}\n",
    "print(f\"The alien is {alien_0['color'].title()}.\")\n",
    "alien_0['color']=\"Yellow\"\n",
    "print(f\"The alien now {alien_0['color'].title()}.\")"
   ]
  },
  {
   "cell_type": "markdown",
   "id": "75c5391f",
   "metadata": {},
   "source": [
    "# For a more interesting example, let’s track the position of an alien that \n",
    "# can move at different speeds. We’ll store a value representing the alien’s \n",
    "# current speed and then use it to determine how far to the right the alien \n",
    "# should move"
   ]
  },
  {
   "cell_type": "code",
   "execution_count": 69,
   "id": "7092d01c",
   "metadata": {},
   "outputs": [],
   "source": [
    "alien={'x_position':0, 'y_position':25,'speed':\"medium\"}"
   ]
  },
  {
   "cell_type": "code",
   "execution_count": 70,
   "id": "31d875d6",
   "metadata": {},
   "outputs": [
    {
     "name": "stdout",
     "output_type": "stream",
     "text": [
      "Original x-position: 0\n",
      "New x-position: 3\n"
     ]
    }
   ],
   "source": [
    "alien['speed']=\"fast\"\n",
    "if alien['speed']==\"slow\":\n",
    "    x_increment=1\n",
    "elif alien['speed']== 'medium':\n",
    "    x_increment=2\n",
    "else:\n",
    "    x_increment=3\n",
    "print(\"Original x-position:\",alien['x_position'])\n",
    "alien['x_position']= alien['x_position'] + x_increment\n",
    "print(\"New x-position: \" + str(alien['x_position']))\n"
   ]
  },
  {
   "cell_type": "markdown",
   "id": "d60ba759",
   "metadata": {},
   "source": [
    "# Removing Key-Value Pairs\n",
    "\n",
    "When you no longer need a piece of information that’s stored in a diction\u0002ary, you can use the del statement to completely remove a key-value pair. \n",
    "All del needs is the name of the dictionary and the key that you want to \n",
    "remove.\n",
    "For example, let’s remove the key 'points' from the alien_0 dictionary \n",
    "along with its value\n",
    "\n",
    "\n"
   ]
  },
  {
   "cell_type": "code",
   "execution_count": 19,
   "id": "166d64cd",
   "metadata": {},
   "outputs": [],
   "source": [
    "alien_0={\"color\":\"green\",\"Points\":5}\n",
    "del alien_0['color']"
   ]
  },
  {
   "cell_type": "code",
   "execution_count": 21,
   "id": "b903029a",
   "metadata": {},
   "outputs": [
    {
     "data": {
      "text/plain": [
       "{'Points': 5}"
      ]
     },
     "execution_count": 21,
     "metadata": {},
     "output_type": "execute_result"
    }
   ],
   "source": [
    "alien_0\n",
    "# Note Be aware that the deleted key-value pair is removed permanently."
   ]
  },
  {
   "cell_type": "code",
   "execution_count": 2,
   "id": "1ccc6177",
   "metadata": {},
   "outputs": [],
   "source": [
    "favourite_language={'abdullah':'python',\n",
    "                    'Awais':'c',\n",
    "                    'Kamil':'C sharp'}"
   ]
  },
  {
   "cell_type": "code",
   "execution_count": 13,
   "id": "15be408d",
   "metadata": {},
   "outputs": [
    {
     "name": "stdout",
     "output_type": "stream",
     "text": [
      "abdullah's favourite language is Python.\n"
     ]
    }
   ],
   "source": [
    "print(\"abdullah's favourite language is\"+ \" \"+\n",
    "      \n",
    "      favourite_language['abdullah'].title()+\".\")"
   ]
  },
  {
   "cell_type": "code",
   "execution_count": 20,
   "id": "b5be345b",
   "metadata": {},
   "outputs": [
    {
     "name": "stdout",
     "output_type": "stream",
     "text": [
      "Fname Muhammad\n",
      "Lname Abdullah\n",
      "City Quetta\n",
      "Age 26\n"
     ]
    }
   ],
   "source": [
    "#  Use a dictionary to store information about a person you know.\n",
    "# Store their first name, last name, age, and the city in which they live. You \n",
    "# should have keys such as first_name, last_name, age, and city. Print each \n",
    "# piece of information stored in your dictionary\n",
    "\n",
    "person_information={\"Fname\":'Muhammad','lname':'Abdullah','city':'Quetta','age':26}\n",
    "for information in person_information:\n",
    "    print(information.title(),person_information[information])"
   ]
  },
  {
   "cell_type": "code",
   "execution_count": 31,
   "id": "12b7daf2",
   "metadata": {},
   "outputs": [
    {
     "name": "stdout",
     "output_type": "stream",
     "text": [
      "Variable:\n",
      "It Is A Place Holder We Want To Store Value\n",
      "Loop:\n",
      "It Will Run Infinite Amount Of Time No Need To Repeat Print Statement\n"
     ]
    }
   ],
   "source": [
    "# . Glossary: A Python dictionary can be used to model an actual dictionary.\n",
    "# However, to avoid confusion, let’s call it a glossary.\n",
    "# •\t Think of five programming words you’ve learned about in the previous \n",
    "# chapters. Use these words as the keys in your glossary, and store their \n",
    "# meanings as values.\n",
    "# •\t Print each word and its meaning as neatly formatted output. You might \n",
    "# print the word followed by a colon and then its meaning, or print the word \n",
    "# on one line and then print its meaning indented on a second line. Use the \n",
    "# newline character (\\n) to insert a blank line between each word-meaning \n",
    "# pair in your output\n",
    "\n",
    "\n",
    "glossary={'variable':'it is a place holder we want to store value',\n",
    "           'loop':'it will run infinite amount of time no need to repeat print statement',\n",
    "            'dict':'it is used when we want to add key value pair mean like words or is meaning'}\n",
    "print('Variable:\\n'\n",
    "      +glossary['variable'].title() +\"\\n\"+\n",
    "      'Loop:\\n'+ glossary['loop'].title())"
   ]
  },
  {
   "cell_type": "code",
   "execution_count": 2,
   "id": "58e0f042",
   "metadata": {},
   "outputs": [
    {
     "name": "stdout",
     "output_type": "stream",
     "text": [
      "Name Muhammad Abdullah\n",
      "Class No\n"
     ]
    }
   ],
   "source": [
    "info_t={'Name':'Muhammad Abdullah','class':'No'}\n",
    "for info in info_t:\n",
    "    print(info.title(),info_t[info])"
   ]
  },
  {
   "cell_type": "code",
   "execution_count": 6,
   "id": "07623463",
   "metadata": {},
   "outputs": [
    {
     "name": "stdout",
     "output_type": "stream",
     "text": [
      "Name Muhammad Abdullah\n",
      "class No\n"
     ]
    }
   ],
   "source": [
    "for key,value in info_t.items():\n",
    "    print(key,value)"
   ]
  },
  {
   "cell_type": "code",
   "execution_count": 158,
   "id": "eac37633",
   "metadata": {},
   "outputs": [
    {
     "name": "stdout",
     "output_type": "stream",
     "text": [
      "Hi Kamil I see your favourite language is C Sharp!\n",
      "Hi Abdullah I see your favourite language is Python!\n",
      "Jabbar please take participation in the poll\n"
     ]
    }
   ],
   "source": [
    "favourite_language={'kamil':'c sharp','abdullah':'python','jabbar':'Ruby'}\n",
    "friend=['abdullah','kamil']\n",
    "for name in favourite_language:\n",
    "#     print(name.title())\n",
    "    if name in friend:\n",
    "       print('Hi'+ \" \" +name.title()\n",
    "             + ' '+ \"I see your favourite language is\"+\n",
    "             \" \"+\n",
    "             favourite_language[name].title()+\"!\")\n",
    "    if name not in friend:\n",
    "        print(name.title(),'please take participation in the poll')"
   ]
  },
  {
   "cell_type": "code",
   "execution_count": 155,
   "id": "c59ed423",
   "metadata": {},
   "outputs": [
    {
     "name": "stdout",
     "output_type": "stream",
     "text": [
      "Abdullah Thank You for takinng the participation in the poll\n",
      "Jabbar Thank You for takinng the participation in the poll\n",
      "Kamil Thank You for takinng the participation in the poll\n"
     ]
    }
   ],
   "source": [
    "# if name in  friend:\n",
    "for name in sorted(favourite_language):\n",
    "    print(name.title(),'Thank You for takinng the participation in the poll')\n",
    "    "
   ]
  },
  {
   "cell_type": "code",
   "execution_count": 13,
   "id": "141d655c",
   "metadata": {},
   "outputs": [],
   "source": [
    "alien_0=[]"
   ]
  },
  {
   "cell_type": "code",
   "execution_count": 16,
   "id": "2894cabf",
   "metadata": {},
   "outputs": [
    {
     "name": "stdout",
     "output_type": "stream",
     "text": [
      "{'color': 'green', 'points': 5, 'speed': 'slow'}\n",
      "{'color': 'green', 'points': 5, 'speed': 'slow'}\n",
      "{'color': 'green', 'points': 5, 'speed': 'slow'}\n",
      "{'color': 'green', 'points': 5, 'speed': 'slow'}\n",
      "{'color': 'green', 'points': 5, 'speed': 'slow'}\n",
      "{'color': 'green', 'points': 5, 'speed': 'slow'}\n",
      "{'color': 'green', 'points': 5, 'speed': 'slow'}\n",
      "{'color': 'green', 'points': 5, 'speed': 'slow'}\n",
      "{'color': 'green', 'points': 5, 'speed': 'slow'}\n",
      "{'color': 'green', 'points': 5, 'speed': 'slow'}\n",
      "{'color': 'green', 'points': 5, 'speed': 'slow'}\n",
      "{'color': 'green', 'points': 5, 'speed': 'slow'}\n",
      "{'color': 'green', 'points': 5, 'speed': 'slow'}\n",
      "{'color': 'green', 'points': 5, 'speed': 'slow'}\n",
      "{'color': 'green', 'points': 5, 'speed': 'slow'}\n",
      "{'color': 'green', 'points': 5, 'speed': 'slow'}\n",
      "{'color': 'green', 'points': 5, 'speed': 'slow'}\n",
      "{'color': 'green', 'points': 5, 'speed': 'slow'}\n",
      "{'color': 'green', 'points': 5, 'speed': 'slow'}\n",
      "{'color': 'green', 'points': 5, 'speed': 'slow'}\n",
      "{'color': 'green', 'points': 5, 'speed': 'slow'}\n",
      "{'color': 'green', 'points': 5, 'speed': 'slow'}\n",
      "{'color': 'green', 'points': 5, 'speed': 'slow'}\n",
      "{'color': 'green', 'points': 5, 'speed': 'slow'}\n",
      "{'color': 'green', 'points': 5, 'speed': 'slow'}\n",
      "{'color': 'green', 'points': 5, 'speed': 'slow'}\n",
      "{'color': 'green', 'points': 5, 'speed': 'slow'}\n",
      "{'color': 'green', 'points': 5, 'speed': 'slow'}\n",
      "{'color': 'green', 'points': 5, 'speed': 'slow'}\n",
      "{'color': 'green', 'points': 5, 'speed': 'slow'}\n"
     ]
    }
   ],
   "source": [
    "\n",
    "for alien in range (30):\n",
    "    alien={'color':'green','points':5,'speed':'slow'}\n",
    "    alien_0.append(alien)\n",
    "    print(alien)"
   ]
  },
  {
   "cell_type": "code",
   "execution_count": 38,
   "id": "7dda6488",
   "metadata": {},
   "outputs": [
    {
     "name": "stdout",
     "output_type": "stream",
     "text": [
      "{'color': 'green', 'points': 5, 'speed': 'slow'}\n",
      "....\n",
      "{'color': 'green', 'points': 5, 'speed': 'slow'}\n",
      "....\n",
      "{'color': 'green', 'points': 5, 'speed': 'slow'}\n",
      "....\n",
      "{'color': 'green', 'points': 5, 'speed': 'slow'}\n",
      "....\n",
      "{'color': 'green', 'points': 5, 'speed': 'slow'}\n",
      "....\n"
     ]
    }
   ],
   "source": [
    "# show first five alien\n",
    "for alien in alien_0[:5]:\n",
    "    print(alien)\n",
    "    print(\"....\")\n"
   ]
  },
  {
   "cell_type": "code",
   "execution_count": 48,
   "id": "8d9df2ec",
   "metadata": {},
   "outputs": [
    {
     "name": "stdout",
     "output_type": "stream",
     "text": [
      "{'color': 'yellow', 'points': 10, 'speed': 'medium'}\n",
      "{'color': 'yellow', 'points': 10, 'speed': 'medium'}\n",
      "{'color': 'yellow', 'points': 10, 'speed': 'medium'}\n"
     ]
    }
   ],
   "source": [
    "for aliens in alien_0[:3]:\n",
    "    if aliens['color']=='green':\n",
    "        aliens['color']='yellow'\n",
    "        aliens['speed']='medium'\n",
    "        aliens['points']=15\n",
    "    print(aliens)"
   ]
  },
  {
   "cell_type": "markdown",
   "id": "84e1b689",
   "metadata": {},
   "source": [
    "# A List in a Dictionary"
   ]
  },
  {
   "cell_type": "code",
   "execution_count": 7,
   "id": "3f7cd4d3",
   "metadata": {},
   "outputs": [
    {
     "name": "stdout",
     "output_type": "stream",
     "text": [
      "you ordered a Thickcrust pizza with the following toppings\n",
      "you ordered a Thickcrust pizza with the following toppings\n"
     ]
    }
   ],
   "source": [
    "pizza={'crust':'thick'\n",
    "       ,'toppings':['meshrooms','olives']}\n",
    "for items in pizza:\n",
    "    print('you ordered a'+\" \"+pizza['crust'].title()+'crust pizza with the following toppings')\n",
    "    \n",
    "    #     print(items,pizza[items])\n"
   ]
  },
  {
   "cell_type": "markdown",
   "id": "ced4f890",
   "metadata": {},
   "source": [
    "# A Dictionary in a Dictionary"
   ]
  },
  {
   "cell_type": "code",
   "execution_count": 67,
   "id": "2c07bb71",
   "metadata": {},
   "outputs": [
    {
     "name": "stdout",
     "output_type": "stream",
     "text": [
      "einstein\n"
     ]
    }
   ],
   "source": [
    "user={'aeinstein': {\n",
    " 'first': 'albert',\n",
    " 'last': 'einstein',\n",
    " 'location': 'princeton',\n",
    "}}\n",
    "print(user['aeinstein']['last'])"
   ]
  },
  {
   "cell_type": "code",
   "execution_count": 86,
   "id": "016fe556",
   "metadata": {},
   "outputs": [
    {
     "name": "stdout",
     "output_type": "stream",
     "text": [
      "Username: aeinstein\n",
      "FullName: Albert Einstein\n",
      "Location: princeton\n",
      ".....\n"
     ]
    }
   ],
   "source": [
    "for username,user_info in user.items():\n",
    "    print('Username:',username)\n",
    "    fullName=user_info['first'].title()+ \" \"+user_info['last'].title()\n",
    "    print(\"FullName:\",fullName)\n",
    "    print(\"Location:\",user_info['location'])\n",
    "    print(\".....\")"
   ]
  },
  {
   "cell_type": "markdown",
   "id": "5540701e",
   "metadata": {},
   "source": [
    "6-7. People: Start with the program you wrote for Exercise 6-1 (page 102).\n",
    "Make two new dictionaries representing different people, and store all three \n",
    "dictionaries in a list called people. Loop through your list of people. As you \n",
    "loop through the list, print everything you know about each person"
   ]
  },
  {
   "cell_type": "code",
   "execution_count": 89,
   "id": "cdbc6a94",
   "metadata": {},
   "outputs": [],
   "source": [
    "user1={'fname':'Muhammad','lname':'abdullah','age':26,'city':'Quetta'}\n",
    "user2={'fname':'Kamil','lname':'Jaffar','age':26,'city':'Karachi'}\n",
    "user3={'fname':'Inayat','lname':'Ali','age':24,'city':'USA'}"
   ]
  },
  {
   "cell_type": "code",
   "execution_count": 101,
   "id": "19940676",
   "metadata": {},
   "outputs": [
    {
     "name": "stdout",
     "output_type": "stream",
     "text": [
      "Muhammad abdullah Quetta 26\n",
      "Kamil Jaffar Karachi 26\n",
      "Inayat Ali USA 24\n"
     ]
    }
   ],
   "source": [
    "people=[user1,user2,user3]\n",
    "for items in people:\n",
    "    print(items['fname']+\" \"+ items['lname']+\" \"+items['city']+\" \"+str(items['age']))"
   ]
  },
  {
   "cell_type": "markdown",
   "id": "5052aca9",
   "metadata": {},
   "source": [
    "6-9. Favorite Places: Make a dictionary called favorite_places. Think of three \n",
    "names to use as keys in the dictionary, and store one to three favorite places \n",
    "for each person. To make this exercise a bit more interesting, ask some friends \n",
    "to name a few of their favorite places. Loop through the dictionary, and print \n",
    "each person’s name and their favorite places. "
   ]
  },
  {
   "cell_type": "markdown",
   "id": "d8c8a635",
   "metadata": {},
   "source": [
    "# How the input() Function Works\n",
    "The input() function pauses your program and waits for the user to enter \n",
    "some text. Once Python receives the user’s input, it stores it in a variable to \n",
    "make it convenient for you to work with.\n",
    "For example, the following program asks the user to enter some text, \n",
    "then displays that message back to the user"
   ]
  },
  {
   "cell_type": "code",
   "execution_count": 1,
   "id": "1efde582",
   "metadata": {},
   "outputs": [
    {
     "name": "stdout",
     "output_type": "stream",
     "text": [
      "Tell me something, and I will repeat it back to you: hello\n",
      "hello\n"
     ]
    }
   ],
   "source": [
    "message = input(\"Tell me something, and I will repeat it back to you: \")\n",
    "print(message)"
   ]
  },
  {
   "cell_type": "code",
   "execution_count": 3,
   "id": "60f0ccd4",
   "metadata": {},
   "outputs": [
    {
     "name": "stdout",
     "output_type": "stream",
     "text": [
      "4\n"
     ]
    }
   ],
   "source": [
    "list=[1,23,4,5]\n",
    "len=0s\n",
    "for items in list:\n",
    "    len+=1\n",
    "print(counter)"
   ]
  },
  {
   "cell_type": "markdown",
   "id": "e0ff7dc2",
   "metadata": {},
   "source": [
    "# Introducing while Loop\n",
    "The for loop takes a collection of items and executes a block of code once \n",
    "for each item in the collection. In contrast, the while loop runs as long as, \n",
    "or while, a certain condition is true.\n"
   ]
  },
  {
   "cell_type": "code",
   "execution_count": 2,
   "id": "1c41539f",
   "metadata": {},
   "outputs": [
    {
     "name": "stdout",
     "output_type": "stream",
     "text": [
      "1\n",
      "2\n",
      "3\n",
      "4\n",
      "5\n"
     ]
    }
   ],
   "source": [
    "current_number = 1\n",
    "while current_number <= 5:\n",
    "    print(current_number)\n",
    "    current_number += 1"
   ]
  },
  {
   "cell_type": "code",
   "execution_count": 8,
   "id": "a13a8e98",
   "metadata": {},
   "outputs": [
    {
     "name": "stdout",
     "output_type": "stream",
     "text": [
      "\n",
      " Tell me something I will repeat it back to you\n",
      " Enter Quit to end the promptsjnd\n",
      "sjnd\n",
      "\n",
      " Tell me something I will repeat it back to you\n",
      " Enter Quit to end the promptwldmln\n",
      "wldmln\n",
      "\n",
      " Tell me something I will repeat it back to you\n",
      " Enter Quit to end the promptkdnkd\n",
      "kdnkd\n",
      "\n",
      " Tell me something I will repeat it back to you\n",
      " Enter Quit to end the promptwjdnkw\n",
      "wjdnkw\n",
      "\n",
      " Tell me something I will repeat it back to you\n",
      " Enter Quit to end the promptQuit\n",
      "Quit\n"
     ]
    }
   ],
   "source": [
    "prompt='\\n Tell me something I will repeat it back to you'\n",
    "prompt+='\\n Enter Quit to end the prompt'\n",
    "message=''\n",
    "while message !='Quit':\n",
    "    message=input(prompt)\n",
    "    print(message)\n",
    "    "
   ]
  },
  {
   "cell_type": "code",
   "execution_count": 65,
   "id": "75438688",
   "metadata": {},
   "outputs": [
    {
     "name": "stdout",
     "output_type": "stream",
     "text": [
      "Verifying user:  Bilal\n",
      "Verifying user:  Ali\n",
      "Verifying user:  Abdullah\n",
      "The user have been verified Bilal\n",
      "The user have been verified Ali\n",
      "The user have been verified Abdullah\n"
     ]
    }
   ],
   "source": [
    "unconfirmed_users=['abdullah','ali','bilal']\n",
    "confirmed_users=[]\n",
    "while unconfirmed_users:\n",
    "    current_user = unconfirmed_users.pop()\n",
    "    print(\"Verifying user: \" , current_user.title())\n",
    "    confirmed_users.append(current_user)\n",
    "for confirmed_user in confirmed_users:\n",
    "    print('The user have been verified',confirmed_user.title())"
   ]
  },
  {
   "cell_type": "code",
   "execution_count": null,
   "id": "fdd59a9e",
   "metadata": {},
   "outputs": [
    {
     "name": "stdout",
     "output_type": "stream",
     "text": [
      "\n",
      "What is your name? MUHAMMAD ABDULLAH\n",
      "Which mountain would you like to climb someday? k2\n",
      "\n",
      "What is your name? KJDN\n",
      "Which mountain would you like to climb someday? KNKS\n",
      "\n",
      "What is your name? JKJZ\n",
      "Which mountain would you like to climb someday? JHJD\n",
      "\n",
      "What is your name? BJD\n",
      "Which mountain would you like to climb someday? JHJKC\n",
      "\n",
      "What is your name? SKCKS\n",
      "Which mountain would you like to climb someday? JHX CK'SH\n",
      "\n",
      "What is your name? AJHAK\n"
     ]
    }
   ],
   "source": [
    "esponses = {}\n",
    "# Set a flag to indicate that polling is active.\n",
    "polling_active = True\n",
    "while polling_active:\n",
    " # Prompt for the person's name and response.\n",
    "    name = input(\"\\nWhat is your name? \")\n",
    "    response = input(\"Which mountain would you like to climb someday? \")\n",
    " \n",
    " # Store the response in the dictionary:\n",
    "\n",
    "responses[name] = response\n",
    " \n",
    " # Find out if anyone else is going to take the poll.\n",
    "repeat = input(\"Would you like to let another person respond? (yes/ no) \")\n",
    "if repeat == 'no':\n",
    "    polling_active = False\n",
    " \n",
    "# Polling is complete. Show the results.\n",
    "print(\"\\n--- Poll Results ---\")\n",
    "for name, response in responses.items():\n",
    "    print(name + \" would like to climb \" + response + \".\")"
   ]
  },
  {
   "cell_type": "markdown",
   "id": "83aa4b21",
   "metadata": {},
   "source": [
    "# Function\n",
    "function is very useful where we do not want code to duplicate\n",
    "it is define with the keyworf def and give the name  and then close the parenthesis"
   ]
  },
  {
   "cell_type": "code",
   "execution_count": 1,
   "id": "8c5b2c15",
   "metadata": {},
   "outputs": [
    {
     "name": "stdout",
     "output_type": "stream",
     "text": [
      "I am learning function\n"
     ]
    }
   ],
   "source": [
    "def display_message():\n",
    "    print('I am learning function')\n",
    "display_message()"
   ]
  },
  {
   "cell_type": "code",
   "execution_count": 4,
   "id": "78894962",
   "metadata": {},
   "outputs": [
    {
     "name": "stdout",
     "output_type": "stream",
     "text": [
      "Adidas The size of the shirt is 6\n"
     ]
    }
   ],
   "source": [
    "'''Write a function called make_shirt() that accepts a size and the \n",
    "text of a message that should be printed on the shirt. The function should print \n",
    "a sentence summarizing the size of the shirt and the message printed on it.\n",
    "Call the function once using positional arguments to make a shirt. Call the \n",
    "function a second time using keyword arguments.'''\n",
    "def make_shirt(size):\n",
    "    print(\"Adidas\",'The size of the shirt is',size)\n",
    "make_shirt(6)"
   ]
  },
  {
   "cell_type": "code",
   "execution_count": 9,
   "id": "eb88ceb7",
   "metadata": {},
   "outputs": [
    {
     "name": "stdout",
     "output_type": "stream",
     "text": [
      "enter a size U\n",
      "The size of the shirt is U\n"
     ]
    }
   ],
   "source": [
    "'''4. Large Shirts: Modify the make_shirt() function so that shirts are large \n",
    "by default with a messagme that reads I love Python. Make a large shirt and a \n",
    "medium shirt with the default message, and a shirt of any size with a different \n",
    "message'''\n",
    "def make_shirt(size):\n",
    "    if size == 'M' and 'L':\n",
    "        print('I love python')\n",
    "    else:\n",
    "        print('The size of the shirt is',size)\n",
    "\n",
    "size=input(\"enter a size \")\n",
    "make_shirt(size)"
   ]
  },
  {
   "cell_type": "code",
   "execution_count": 13,
   "id": "c2ff80bc",
   "metadata": {},
   "outputs": [
    {
     "data": {
      "text/plain": [
       "'MuhammadAbdullah'"
      ]
     },
     "execution_count": 13,
     "metadata": {},
     "output_type": "execute_result"
    }
   ],
   "source": [
    "def formatted_name(first_name,last_name,middl_nam=''):\n",
    "    if middle_name:\n",
    "        full_name=first_name+middle_name+last_name\n",
    "    else:\n",
    "        full_name=first_name+last_name\n",
    "    return full_name\n",
    "formatted_name(\"Muhammad\",\"Abdullah\")"
   ]
  },
  {
   "cell_type": "code",
   "execution_count": 2,
   "id": "f5b23867",
   "metadata": {},
   "outputs": [
    {
     "name": "stdout",
     "output_type": "stream",
     "text": [
      "Muhammad Bilal \n",
      " Muhammad Abdullah\n"
     ]
    }
   ],
   "source": [
    "# we all know why we use because of security purpose in case od pos data is folliwing freely and it is also not useful for real\n",
    "#     world problem that is why we use oops\n",
    "\n",
    "'''clas is define with the keyword class\n",
    "class then classname and then colon\n",
    "the object of the class can be variable function\n",
    "or any thing\n",
    "what the object need\n",
    "Two thing\n",
    "1 what the object have it is attributes\n",
    "2 what it can do known as method or does\n",
    "what is class \n",
    "class is a user define data type\n",
    "class is a design or Blue print to create object or instances \n",
    "'''\n",
    "\n",
    "# def function():\n",
    "#     print(type('hello'))\n",
    "# function()\n",
    "''' that is why we say everything in python is a object\n",
    "in this example what is in object \"Hello\" \n",
    "of which class called Str'''\n",
    "# a=1\n",
    "# def intiger():\n",
    "#     print(type(a))\n",
    "# intiger()\n",
    "'''in this example what is in object \"a\" \n",
    "of which class called Int'''\n",
    "\n",
    "\n",
    "class FullName:\n",
    "    pass\n",
    "FullName_1=FullName()\n",
    "FullName_1.name=\"Muhammad Bilal\"\n",
    "FullName_2=FullName()\n",
    "FullName_2.name='Muhammad Abdullah'\n",
    "print(FullName_1.name,'\\n'\n",
    "      ,FullName_2.name)\n",
    "# if we do our work like this then what is the purpose of class "
   ]
  },
  {
   "cell_type": "code",
   "execution_count": 3,
   "id": "ec4ee273",
   "metadata": {},
   "outputs": [
    {
     "data": {
      "text/plain": [
       "'Here comes the constructor\\nwhat is constructor\\nconstructor is a special function that initalize the object \\n       or\\nthat initalize the data member of the class while creating the object'"
      ]
     },
     "execution_count": 3,
     "metadata": {},
     "output_type": "execute_result"
    }
   ],
   "source": [
    "'''Here comes the constructor\n",
    "what is constructor\n",
    "constructor is a special function that initalize the object \n",
    "       or\n",
    "that initalize the data member of the class while creating the object'''"
   ]
  },
  {
   "cell_type": "code",
   "execution_count": 4,
   "id": "15d6f444",
   "metadata": {},
   "outputs": [
    {
     "name": "stdout",
     "output_type": "stream",
     "text": [
      "Abdullah Quetta\n",
      "Bilal Quetta\n"
     ]
    }
   ],
   "source": [
    "# in this exmaple we are defining the object which have attribute (object what it have) \n",
    "class Instructor():\n",
    "    def __init__(self,inst_name,address):\n",
    "        self.name=inst_name\n",
    "        self.address=address\n",
    "instructor_1=Instructor('Abdullah','Quetta')\n",
    "print(instructor_1.name,instructor_1.address)\n",
    "instructor_2=Instructor('Bilal','Quetta')\n",
    "print(instructor_2.name,instructor_2.address)"
   ]
  },
  {
   "cell_type": "code",
   "execution_count": 2,
   "id": "e8baea41",
   "metadata": {},
   "outputs": [
    {
     "name": "stdout",
     "output_type": "stream",
     "text": [
      "I am Muhammad Abdullah and i learn python\n",
      "1\n"
     ]
    }
   ],
   "source": [
    "# in this example i also define method in class(object what it dose) \n",
    "\n",
    "class Instructor():\n",
    "    follower=0\n",
    "    # it is run for every object that we will create\n",
    "    def __init__(self,name,address):\n",
    "        self.name = name\n",
    "        self.address = address\n",
    "    def display(self,subject_name):\n",
    "        print(f'I am {self.name} and i learn {subject_name}')\n",
    "    def count_follower(self,follower_name):\n",
    "        self.follower+=1\n",
    "        \n",
    "instructor_1=Instructor(\"Muhammad Abdullah\",\"Quetta\")\n",
    "instructor_1.display('python')\n",
    "instructor_1.count_follower(\"MUhammad Abdullah\")\n",
    "print(instructor_1.follower)"
   ]
  },
  {
   "cell_type": "code",
   "execution_count": 15,
   "id": "befa3149",
   "metadata": {},
   "outputs": [
    {
     "name": "stdout",
     "output_type": "stream",
     "text": [
      "Muhammad Abdullh Quetta\n",
      "1\n"
     ]
    }
   ],
   "source": [
    "class Instructor():\n",
    "    follower=0\n",
    "    # it is run for every object that we will create\n",
    "    def __init__(self,name,address):\n",
    "        self.name =name\n",
    "        self.address =address\n",
    "    def follower_count(self,follower_name):\n",
    "        self.follower += 1\n",
    "\n",
    "instructor_1=Instructor(\"Muhammad Abdullh\",\"Quetta\")\n",
    "print(instructor_1.name,instructor_1.address)\n",
    "instructor_1.follower_count('kamil')\n",
    "print(instructor_1.follower)"
   ]
  },
  {
   "cell_type": "code",
   "execution_count": 3,
   "id": "d9a0eaf0",
   "metadata": {},
   "outputs": [
    {
     "data": {
      "text/plain": [
       "4"
      ]
     },
     "execution_count": 3,
     "metadata": {},
     "output_type": "execute_result"
    }
   ],
   "source": [
    "2**2\n"
   ]
  },
  {
   "cell_type": "code",
   "execution_count": 1,
   "id": "025f813c",
   "metadata": {},
   "outputs": [
    {
     "name": "stdout",
     "output_type": "stream",
     "text": [
      "s,c sk \n"
     ]
    }
   ],
   "source": [
    "print('s,c sk ')"
   ]
  },
  {
   "cell_type": "code",
   "execution_count": 2,
   "id": "66e227b9",
   "metadata": {},
   "outputs": [],
   "source": [
    "import numpy as np"
   ]
  },
  {
   "cell_type": "code",
   "execution_count": 3,
   "id": "b418c056",
   "metadata": {},
   "outputs": [
    {
     "ename": "ImportError",
     "evalue": "cannot import name 'SubplotParams' from 'matplotlib.gridspec' (C:\\Users\\Abdullah\\anaconda3\\Lib\\site-packages\\matplotlib\\gridspec.py)",
     "output_type": "error",
     "traceback": [
      "\u001b[1;31m---------------------------------------------------------------------------\u001b[0m",
      "\u001b[1;31mImportError\u001b[0m                               Traceback (most recent call last)",
      "Cell \u001b[1;32mIn[3], line 1\u001b[0m\n\u001b[1;32m----> 1\u001b[0m \u001b[38;5;28;01mimport\u001b[39;00m \u001b[38;5;21;01mmatplotlib\u001b[39;00m\u001b[38;5;21;01m.\u001b[39;00m\u001b[38;5;21;01mpyplot\u001b[39;00m \u001b[38;5;28;01mas\u001b[39;00m \u001b[38;5;21;01mplt\u001b[39;00m\n",
      "File \u001b[1;32m~\\anaconda3\\Lib\\site-packages\\matplotlib\\pyplot.py:66\u001b[0m\n\u001b[0;32m     63\u001b[0m \u001b[38;5;28;01mfrom\u001b[39;00m \u001b[38;5;21;01mmatplotlib\u001b[39;00m \u001b[38;5;28;01mimport\u001b[39;00m _docstring\n\u001b[0;32m     64\u001b[0m \u001b[38;5;28;01mfrom\u001b[39;00m \u001b[38;5;21;01mmatplotlib\u001b[39;00m\u001b[38;5;21;01m.\u001b[39;00m\u001b[38;5;21;01mbackend_bases\u001b[39;00m \u001b[38;5;28;01mimport\u001b[39;00m (\n\u001b[0;32m     65\u001b[0m     FigureCanvasBase, FigureManagerBase, MouseButton)\n\u001b[1;32m---> 66\u001b[0m \u001b[38;5;28;01mfrom\u001b[39;00m \u001b[38;5;21;01mmatplotlib\u001b[39;00m\u001b[38;5;21;01m.\u001b[39;00m\u001b[38;5;21;01mfigure\u001b[39;00m \u001b[38;5;28;01mimport\u001b[39;00m Figure, FigureBase, figaspect\n\u001b[0;32m     67\u001b[0m \u001b[38;5;28;01mfrom\u001b[39;00m \u001b[38;5;21;01mmatplotlib\u001b[39;00m\u001b[38;5;21;01m.\u001b[39;00m\u001b[38;5;21;01mgridspec\u001b[39;00m \u001b[38;5;28;01mimport\u001b[39;00m GridSpec, SubplotSpec\n\u001b[0;32m     68\u001b[0m \u001b[38;5;28;01mfrom\u001b[39;00m \u001b[38;5;21;01mmatplotlib\u001b[39;00m \u001b[38;5;28;01mimport\u001b[39;00m rcsetup, rcParamsDefault, rcParamsOrig\n",
      "File \u001b[1;32m~\\anaconda3\\Lib\\site-packages\\matplotlib\\figure.py:51\u001b[0m\n\u001b[0;32m     48\u001b[0m \u001b[38;5;28;01mimport\u001b[39;00m \u001b[38;5;21;01mmatplotlib\u001b[39;00m\u001b[38;5;21;01m.\u001b[39;00m\u001b[38;5;21;01mimage\u001b[39;00m \u001b[38;5;28;01mas\u001b[39;00m \u001b[38;5;21;01mmimage\u001b[39;00m\n\u001b[0;32m     50\u001b[0m \u001b[38;5;28;01mfrom\u001b[39;00m \u001b[38;5;21;01mmatplotlib\u001b[39;00m\u001b[38;5;21;01m.\u001b[39;00m\u001b[38;5;21;01maxes\u001b[39;00m \u001b[38;5;28;01mimport\u001b[39;00m Axes\n\u001b[1;32m---> 51\u001b[0m \u001b[38;5;28;01mfrom\u001b[39;00m \u001b[38;5;21;01mmatplotlib\u001b[39;00m\u001b[38;5;21;01m.\u001b[39;00m\u001b[38;5;21;01mgridspec\u001b[39;00m \u001b[38;5;28;01mimport\u001b[39;00m GridSpec, SubplotParams\n\u001b[0;32m     52\u001b[0m \u001b[38;5;28;01mfrom\u001b[39;00m \u001b[38;5;21;01mmatplotlib\u001b[39;00m\u001b[38;5;21;01m.\u001b[39;00m\u001b[38;5;21;01mlayout_engine\u001b[39;00m \u001b[38;5;28;01mimport\u001b[39;00m (\n\u001b[0;32m     53\u001b[0m     ConstrainedLayoutEngine, TightLayoutEngine, LayoutEngine,\n\u001b[0;32m     54\u001b[0m     PlaceHolderLayoutEngine\n\u001b[0;32m     55\u001b[0m )\n\u001b[0;32m     56\u001b[0m \u001b[38;5;28;01mimport\u001b[39;00m \u001b[38;5;21;01mmatplotlib\u001b[39;00m\u001b[38;5;21;01m.\u001b[39;00m\u001b[38;5;21;01mlegend\u001b[39;00m \u001b[38;5;28;01mas\u001b[39;00m \u001b[38;5;21;01mmlegend\u001b[39;00m\n",
      "\u001b[1;31mImportError\u001b[0m: cannot import name 'SubplotParams' from 'matplotlib.gridspec' (C:\\Users\\Abdullah\\anaconda3\\Lib\\site-packages\\matplotlib\\gridspec.py)"
     ]
    }
   ],
   "source": [
    "import matplotlib.pyplot as plt"
   ]
  },
  {
   "cell_type": "code",
   "execution_count": null,
   "id": "47912be8",
   "metadata": {},
   "outputs": [],
   "source": []
  }
 ],
 "metadata": {
  "kernelspec": {
   "display_name": "Python 3 (ipykernel)",
   "language": "python",
   "name": "python3"
  },
  "language_info": {
   "codemirror_mode": {
    "name": "ipython",
    "version": 3
   },
   "file_extension": ".py",
   "mimetype": "text/x-python",
   "name": "python",
   "nbconvert_exporter": "python",
   "pygments_lexer": "ipython3",
   "version": "3.11.7"
  }
 },
 "nbformat": 4,
 "nbformat_minor": 5
}
